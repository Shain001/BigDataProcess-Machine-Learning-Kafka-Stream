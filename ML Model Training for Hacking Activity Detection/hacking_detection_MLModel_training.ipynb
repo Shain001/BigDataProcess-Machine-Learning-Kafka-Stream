{
 "cells": [
  {
   "cell_type": "markdown",
   "metadata": {},
   "source": [
    " # 1. Data preparation and exploration\n"
   ]
  },
  {
   "cell_type": "markdown",
   "metadata": {},
   "source": [
    "<strong>1.1 Creating Spark Session<strong>"
   ]
  },
  {
   "cell_type": "code",
   "execution_count": 1,
   "metadata": {},
   "outputs": [],
   "source": [
    "from pyspark import SparkConf\n",
    "from pyspark.sql import SparkSession\n",
    "\n",
    "master = \"local[2]\"\n",
    "app_name = \"Assignment2A\"\n",
    "spark_conf = SparkConf().setMaster(master).setAppName(app_name)\n",
    "\n",
    "#change the max partition bytes from 128M to 30M ; the size of files is 60MB, therefore 2 partitions will be made for each file\n",
    "spark = SparkSession.builder.config(conf=spark_conf).config(\"spark.sql.files.maxPartitionBytes\", 32010240).getOrCreate()\n",
    "sc = spark.sparkContext\n",
    "sc.setLogLevel('ERROR')"
   ]
  },
  {
   "cell_type": "markdown",
   "metadata": {},
   "source": [
    "<strong>1.2 Loading the data<strong>\n"
   ]
  },
  {
   "cell_type": "code",
   "execution_count": 2,
   "metadata": {},
   "outputs": [],
   "source": [
    "#specify the schema before reading to speed up loading\n",
    "from pyspark.sql.types import *\n",
    "from pyspark.sql.functions import *\n",
    "# read in [\"MINFLT\",\"MAJFLT\",\"VSTEXT\",\"RSIZE\",\"VGROW\",\"RGROW\"] as stringtype instead to avoid mismatch\n",
    "\n",
    "memoryFields = StructType([StructField(\"ts\", IntegerType(), True),\n",
    "                StructField(\"PID\", IntegerType(), True),\n",
    "                StructField(\"MINFLT\", StringType(), False),\n",
    "                StructField(\"MAJFLT\", StringType(), False),\n",
    "                StructField(\"VSTEXT\", StringType(), True),\n",
    "                StructField(\"VSIZE\", DoubleType(), True),\n",
    "                StructField(\"RSIZE\", StringType(), True),\n",
    "                StructField(\"VGROW\", StringType(), True),\n",
    "                StructField(\"RGROW\", StringType(), True),\n",
    "                StructField(\"MEM\", DoubleType(), True),\n",
    "                StructField(\"CMD\", StringType(), True),\n",
    "                StructField(\"attack\", IntegerType(), True),\n",
    "                StructField(\"type\", StringType(), True)\n",
    "               ])\n",
    "\n",
    "processFields = StructType([StructField(\"ts\", IntegerType(), True),\n",
    "                StructField(\"PID\", IntegerType(), True),\n",
    "                StructField(\"TRUN\", IntegerType(), True),\n",
    "                StructField(\"TSLPI\", IntegerType(), True),\n",
    "                StructField(\"TSLPU\", IntegerType(), True),\n",
    "                StructField(\"POLI\", StringType(), True),\n",
    "                StructField(\"NICE\", IntegerType(), True),\n",
    "                StructField(\"PRI\", IntegerType(), True),\n",
    "                StructField(\"RTPR\", IntegerType(), True),\n",
    "                StructField(\"CPUNR\", IntegerType(), True),\n",
    "                StructField(\"Status\", StringType(), True),\n",
    "                StructField(\"EXC\", IntegerType(), True),\n",
    "                StructField(\"State\", StringType(), True),\n",
    "                StructField(\"CPU\", DoubleType(), True),\n",
    "                StructField(\"CMD\", StringType(), True),\n",
    "                StructField(\"attack\", IntegerType(), True),\n",
    "                StructField(\"type\", StringType(), True)\n",
    "               ])\n",
    "# loading the data with predefined schema structure\n",
    "df_process = spark.read.csv(\"linux_process_*\", header=True, schema = processFields)\n",
    "df_memory = spark.read.csv(\"linux_memory_*\", header=True, schema = memoryFields)\n"
   ]
  },
  {
   "cell_type": "code",
   "execution_count": 3,
   "metadata": {},
   "outputs": [],
   "source": [
    "# calculating the value of alpha\n",
    "# for column in [\"MINFLT\",\"MAJFLT\",\"VSTEXT\",\"RSIZE\",\"RGROW\"]:\n",
    "#     df_memory.select(column).filter(col(column).contains(\"M\") | col(column).contains(\"K\") | col(column).contains(\"G\")).show()\n",
    "    \n",
    "def cal_alpha(row):\n",
    "    if 'K' in row:\n",
    "        row = str(float(row[:-1]) * 1000)\n",
    "    elif 'M' in row:\n",
    "        row = str(float(row[:-1]) * 1000000)\n",
    "    elif 'G' in row:\n",
    "        row = str(float(row[:-1]) * 1000000000)\n",
    "    return row\n",
    "\n",
    "cal_alpha = udf(cal_alpha,StringType())\n",
    "\n",
    "for column in [\"MINFLT\",\"MAJFLT\",\"VSTEXT\",\"RSIZE\",\"RGROW\"]:\n",
    "    df_memory = df_memory.withColumn(column,cal_alpha(df_memory[column]))\n",
    "    df_memory = df_memory.withColumn(column, df_memory[column].cast(DoubleType()))"
   ]
  },
  {
   "cell_type": "code",
   "execution_count": 4,
   "metadata": {},
   "outputs": [],
   "source": [
    "# #handling unformated data in VGROW\n",
    "# from pyspark.sql.functions import *\n",
    "\n",
    "# # removing spaces in column \"VGROW\"  and convert it's datatype first\n",
    "# df_memory = df_memory.withColumn(\"VGROW\", regexp_replace(df_memory[\"VGROW\"], \" \", \"\"))\n",
    "# df_memory = df_memory.withColumn(\"VGROW\", df_memory[\"VGROW\"].cast(DoubleType()))\n",
    "# df_memory.select(\"VGROW\").filter(col(\"VGROW\").contains(\" \")).show()\n",
    "\n",
    "def remove_space(row):\n",
    "    if \" \" in row:\n",
    "        row = row.replace(\" \",\"\")\n",
    "    return row\n",
    "\n",
    "remove_space = udf(remove_space,StringType())\n",
    "df_memory = df_memory.withColumn(\"VGROW\",cal_alpha(df_memory[\"VGROW\"]))\n",
    "df_memory = df_memory.withColumn(\"VGROW\",remove_space(df_memory[\"VGROW\"]))\n",
    "df_memory = df_memory.withColumn(\"VGROW\",df_memory[\"VGROW\"].cast(DoubleType()))"
   ]
  },
  {
   "cell_type": "code",
   "execution_count": 51,
   "metadata": {},
   "outputs": [
    {
     "name": "stdout",
     "output_type": "stream",
     "text": [
      "+---+---+------+------+------+-----+-----+-----+-----+---+---+------+----+\n",
      "| ts|PID|MINFLT|MAJFLT|VSTEXT|VSIZE|RSIZE|VGROW|RGROW|MEM|CMD|attack|type|\n",
      "+---+---+------+------+------+-----+-----+-----+-----+---+---+------+----+\n",
      "|  0|  0|     0|     0|     0|    0|    0|    0|    0|  0|  0|     0|   0|\n",
      "+---+---+------+------+------+-----+-----+-----+-----+---+---+------+----+\n",
      "\n"
     ]
    }
   ],
   "source": [
    "from pyspark.sql.functions import isnan, when, count, col\n",
    "df_memory.select([count(when(isnan(c) | col(c).isNull(), c)).alias(c) for c in df_memory.columns]).show()"
   ]
  },
  {
   "cell_type": "code",
   "execution_count": 52,
   "metadata": {},
   "outputs": [
    {
     "name": "stdout",
     "output_type": "stream",
     "text": [
      "+---+---+----+-----+-----+----+----+---+----+-----+------+---+-----+---+---+------+----+\n",
      "| ts|PID|TRUN|TSLPI|TSLPU|POLI|NICE|PRI|RTPR|CPUNR|Status|EXC|State|CPU|CMD|attack|type|\n",
      "+---+---+----+-----+-----+----+----+---+----+-----+------+---+-----+---+---+------+----+\n",
      "|  0|  0|   0|    0|    0|   0|   0|  0|   0|    0|     0|  0|    0|  0|  0|     0|   0|\n",
      "+---+---+----+-----+-----+----+----+---+----+-----+------+---+-----+---+---+------+----+\n",
      "\n"
     ]
    }
   ],
   "source": [
    "df_process.select([count(when(isnan(c) | col(c).isNull(), c)).alias(c) for c in df_process.columns]).show()"
   ]
  },
  {
   "cell_type": "code",
   "execution_count": 53,
   "metadata": {},
   "outputs": [
    {
     "name": "stdout",
     "output_type": "stream",
     "text": [
      "root\n",
      " |-- ts: integer (nullable = true)\n",
      " |-- PID: integer (nullable = true)\n",
      " |-- MINFLT: double (nullable = true)\n",
      " |-- MAJFLT: double (nullable = true)\n",
      " |-- VSTEXT: double (nullable = true)\n",
      " |-- VSIZE: double (nullable = true)\n",
      " |-- RSIZE: double (nullable = true)\n",
      " |-- VGROW: double (nullable = true)\n",
      " |-- RGROW: double (nullable = true)\n",
      " |-- MEM: double (nullable = true)\n",
      " |-- CMD: string (nullable = true)\n",
      " |-- attack: integer (nullable = true)\n",
      " |-- type: string (nullable = true)\n",
      "\n",
      "root\n",
      " |-- ts: integer (nullable = true)\n",
      " |-- PID: integer (nullable = true)\n",
      " |-- TRUN: integer (nullable = true)\n",
      " |-- TSLPI: integer (nullable = true)\n",
      " |-- TSLPU: integer (nullable = true)\n",
      " |-- POLI: string (nullable = true)\n",
      " |-- NICE: integer (nullable = true)\n",
      " |-- PRI: integer (nullable = true)\n",
      " |-- RTPR: integer (nullable = true)\n",
      " |-- CPUNR: integer (nullable = true)\n",
      " |-- Status: string (nullable = true)\n",
      " |-- EXC: integer (nullable = true)\n",
      " |-- State: string (nullable = true)\n",
      " |-- CPU: double (nullable = true)\n",
      " |-- CMD: string (nullable = true)\n",
      " |-- attack: integer (nullable = true)\n",
      " |-- type: string (nullable = true)\n",
      "\n"
     ]
    }
   ],
   "source": [
    "df_memory.printSchema()\n",
    "df_process.printSchema()"
   ]
  },
  {
   "cell_type": "markdown",
   "metadata": {},
   "source": [
    "<strong>1.3 Exploring the data (15%)<strong>"
   ]
  },
  {
   "cell_type": "markdown",
   "metadata": {},
   "source": [
    "<strong>1. Show the count of attack and non-attack in each activity based on the column\n",
    "“attack”, then show the count of each kind of attack in process activity based on the\n",
    "column “type”.<strong>"
   ]
  },
  {
   "cell_type": "markdown",
   "metadata": {},
   "source": [
    "<strong>Question about \"Class imbalanced\" Answer:<strong>"
   ]
  },
  {
   "cell_type": "markdown",
   "metadata": {},
   "source": [
    "<strong>There is class imbalanced problem in each two dataset; <strong>\n",
    "<strong>1. Since as shown in the counting of attack/unattack number for both two dataset; the amount of negative sample is much more higher than positive sample; E.g. in \"memory\" positive sample is about 5 times lower than negative one, same in \"process\"<strong>\n"
   ]
  },
  {
   "cell_type": "code",
   "execution_count": 54,
   "metadata": {},
   "outputs": [
    {
     "name": "stdout",
     "output_type": "stream",
     "text": [
      "+------+-------+\n",
      "|attack|  count|\n",
      "+------+-------+\n",
      "|     1| 291364|\n",
      "|     0|1636604|\n",
      "+------+-------+\n",
      "\n"
     ]
    },
    {
     "data": {
      "text/plain": [
       "1927968"
      ]
     },
     "execution_count": 54,
     "metadata": {},
     "output_type": "execute_result"
    }
   ],
   "source": [
    "#process counting base on attack \n",
    "df_process.groupBy(\"attack\").count().show()\n",
    "df_process.count()"
   ]
  },
  {
   "cell_type": "code",
   "execution_count": 55,
   "metadata": {},
   "outputs": [
    {
     "name": "stdout",
     "output_type": "stream",
     "text": [
      "+---------+-----+\n",
      "|     type|count|\n",
      "+---------+-----+\n",
      "|      xss|17759|\n",
      "| password|51409|\n",
      "| scanning|38449|\n",
      "|     ddos|71603|\n",
      "|     mitm|  112|\n",
      "|injection|41311|\n",
      "|      dos|70721|\n",
      "+---------+-----+\n",
      "\n"
     ]
    }
   ],
   "source": [
    "#process counting based on differnet attack type\n",
    "df_process.filter(col(\"attack\") == 1).groupBy(\"type\").count().show()"
   ]
  },
  {
   "cell_type": "code",
   "execution_count": 56,
   "metadata": {},
   "outputs": [
    {
     "name": "stdout",
     "output_type": "stream",
     "text": [
      "+------+-------+\n",
      "|attack|  count|\n",
      "+------+-------+\n",
      "|     1| 205623|\n",
      "|     0|1794377|\n",
      "+------+-------+\n",
      "\n"
     ]
    }
   ],
   "source": [
    "#memory counting base on attack \n",
    "df_memory.groupBy(\"attack\").count().show()"
   ]
  },
  {
   "cell_type": "code",
   "execution_count": 57,
   "metadata": {},
   "outputs": [
    {
     "name": "stdout",
     "output_type": "stream",
     "text": [
      "+---------+-----+\n",
      "|     type|count|\n",
      "+---------+-----+\n",
      "| password|26016|\n",
      "|     ddos|45689|\n",
      "|     mitm|  112|\n",
      "|injection|58523|\n",
      "|      dos|75283|\n",
      "+---------+-----+\n",
      "\n"
     ]
    }
   ],
   "source": [
    "#memory counting based on differnet attack type\n",
    "df_memory.filter(col(\"attack\") == 1).groupBy(\"type\").count().show()"
   ]
  },
  {
   "cell_type": "markdown",
   "metadata": {},
   "source": [
    "<strong>2. For each numeric feature in each activity, show the basic statistics (including count,\n",
    "mean, stddev, min, max); for each non-numeric feature in each activity, display the\n",
    "top-10 values and the corresponding counts.\n",
    "○ No need to show the labels at “attack” or “type” column<strong>"
   ]
  },
  {
   "cell_type": "markdown",
   "metadata": {},
   "source": [
    "#1 For processing DF"
   ]
  },
  {
   "cell_type": "code",
   "execution_count": 58,
   "metadata": {},
   "outputs": [
    {
     "name": "stdout",
     "output_type": "stream",
     "text": [
      "+-------+--------------------+-----------------+-------------------+------------------+--------------------+-----------------+------------------+-------+------------------+--------------------+-------------------+\n",
      "|summary|                  ts|              PID|               TRUN|             TSLPI|               TSLPU|             NICE|               PRI|   RTPR|             CPUNR|                 EXC|                CPU|\n",
      "+-------+--------------------+-----------------+-------------------+------------------+--------------------+-----------------+------------------+-------+------------------+--------------------+-------------------+\n",
      "|  count|             1927968|          1927968|            1927968|           1927968|             1927968|          1927968|           1927968|1927968|           1927968|             1927968|            1927968|\n",
      "|   mean|1.5563198311840394E9|5068.709770597852| 0.0632287465352122| 3.508334163222626|3.610018423542299...|4.634469555511295|111.26826741937626|    0.0|1.9210142491991569|0.030275398761805176|0.02238527299209773|\n",
      "| stddev|   771350.0248114164| 4987.78432932045|0.24782587090416122|6.9884597285317565|  0.0442187441921457|8.403189864752084|22.624445062102897|    0.0|1.5274047225903156|  1.4619498567691824|0.13628943687184253|\n",
      "|    min|          1554216855|             1007|                  0|                 0|                   0|                0|                 0|      0|                 0|                   0|                0.0|\n",
      "|    max|          1557593017|            53080|                 12|                70|                  21|               20|               139|      0|                 5|                 127|               4.02|\n",
      "+-------+--------------------+-----------------+-------------------+------------------+--------------------+-----------------+------------------+-------+------------------+--------------------+-------------------+\n",
      "\n"
     ]
    }
   ],
   "source": [
    "# data of processing\n",
    "num_col_pro = [c[0] for c in df_process.dtypes if c[1] != \"string\"]\n",
    "str_col_pro = [c for c in df_process.columns if c not in num_col_pro]\n",
    "df_num_pro = df_process.select([c for c in num_col_pro if c != \"attack\"])\n",
    "df_str_pro = df_process.select([c for c in str_col_pro if c != \"type\"])\n",
    "df_num_pro.describe().show()\n",
    "# print(str_col_pro)"
   ]
  },
  {
   "cell_type": "code",
   "execution_count": 59,
   "metadata": {},
   "outputs": [
    {
     "name": "stdout",
     "output_type": "stream",
     "text": [
      "+----+-------+\n",
      "|POLI|  count|\n",
      "+----+-------+\n",
      "|norm|1861558|\n",
      "|   0|  53216|\n",
      "|   -|  13194|\n",
      "+----+-------+\n",
      "\n",
      "+------+-------+\n",
      "|Status|  count|\n",
      "+------+-------+\n",
      "|     -|1416322|\n",
      "|     0| 438984|\n",
      "|    NE|  48602|\n",
      "|     N|  23313|\n",
      "|    NS|    743|\n",
      "|     C|      3|\n",
      "|    NC|      1|\n",
      "+------+-------+\n",
      "\n",
      "+-----+-------+\n",
      "|State|  count|\n",
      "+-----+-------+\n",
      "|    S|1676350|\n",
      "|    I|  98986|\n",
      "|    R|  84753|\n",
      "|    E|  66410|\n",
      "|    Z|   1118|\n",
      "|    D|    344|\n",
      "|    T|      7|\n",
      "+-----+-------+\n",
      "\n",
      "+--------------+------+\n",
      "|           CMD| count|\n",
      "+--------------+------+\n",
      "|          atop|441180|\n",
      "|       apache2|313143|\n",
      "|      vmtoolsd|112029|\n",
      "|          Xorg| 66813|\n",
      "|      nautilus| 63449|\n",
      "|gnome-terminal| 47628|\n",
      "|        compiz| 44386|\n",
      "|    irqbalance| 44324|\n",
      "|      ostinato| 42979|\n",
      "|         drone| 41390|\n",
      "+--------------+------+\n",
      "only showing top 10 rows\n",
      "\n"
     ]
    }
   ],
   "source": [
    "#for each non-numeric feature in each activity, display the top-10 values and the corresponding counts\n",
    "def show_top10_for_each_col(df):\n",
    "    for c in df.columns:\n",
    "        df.groupBy(c).count().sort(\"count\",ascending = False).show(10)\n",
    "show_top10_for_each_col(df_str_pro)"
   ]
  },
  {
   "cell_type": "markdown",
   "metadata": {},
   "source": [
    "For Memory"
   ]
  },
  {
   "cell_type": "code",
   "execution_count": 60,
   "metadata": {},
   "outputs": [
    {
     "name": "stdout",
     "output_type": "stream",
     "text": [
      "+-------+--------------------+-----------------+-------------------+------------------+--------------------+-----------------+------------------+-------+------------------+--------------------+-------------------+\n",
      "|summary|                  ts|              PID|               TRUN|             TSLPI|               TSLPU|             NICE|               PRI|   RTPR|             CPUNR|                 EXC|                CPU|\n",
      "+-------+--------------------+-----------------+-------------------+------------------+--------------------+-----------------+------------------+-------+------------------+--------------------+-------------------+\n",
      "|  count|             1927968|          1927968|            1927968|           1927968|             1927968|          1927968|           1927968|1927968|           1927968|             1927968|            1927968|\n",
      "|   mean|1.5563198311840394E9|5068.709770597852| 0.0632287465352122| 3.508334163222626|3.610018423542299...|4.634469555511295|111.26826741937626|    0.0|1.9210142491991569|0.030275398761805176|0.02238527299209773|\n",
      "| stddev|   771350.0248114164| 4987.78432932045|0.24782587090416122|6.9884597285317565|  0.0442187441921457|8.403189864752084|22.624445062102897|    0.0|1.5274047225903156|  1.4619498567691824|0.13628943687184253|\n",
      "|    min|          1554216855|             1007|                  0|                 0|                   0|                0|                 0|      0|                 0|                   0|                0.0|\n",
      "|    max|          1557593017|            53080|                 12|                70|                  21|               20|               139|      0|                 5|                 127|               4.02|\n",
      "+-------+--------------------+-----------------+-------------------+------------------+--------------------+-----------------+------------------+-------+------------------+--------------------+-------------------+\n",
      "\n"
     ]
    }
   ],
   "source": [
    "num_col_mem = [c[0] for c in df_memory.dtypes if c[1] != \"string\"]\n",
    "str_col_mem = [c for c in df_memory.columns if c not in num_col_mem]\n",
    "df_num_mem = df_process.select([c for c in num_col_pro if c != \"attack\"])\n",
    "df_str_mem = df_process.select([c for c in str_col_pro if c != \"type\"])\n",
    "df_num_mem.describe().show()"
   ]
  },
  {
   "cell_type": "code",
   "execution_count": 61,
   "metadata": {},
   "outputs": [
    {
     "name": "stdout",
     "output_type": "stream",
     "text": [
      "+----+-------+\n",
      "|POLI|  count|\n",
      "+----+-------+\n",
      "|norm|1861558|\n",
      "|   0|  53216|\n",
      "|   -|  13194|\n",
      "+----+-------+\n",
      "\n",
      "+------+-------+\n",
      "|Status|  count|\n",
      "+------+-------+\n",
      "|     -|1416322|\n",
      "|     0| 438984|\n",
      "|    NE|  48602|\n",
      "|     N|  23313|\n",
      "|    NS|    743|\n",
      "|     C|      3|\n",
      "|    NC|      1|\n",
      "+------+-------+\n",
      "\n",
      "+-----+-------+\n",
      "|State|  count|\n",
      "+-----+-------+\n",
      "|    S|1676350|\n",
      "|    I|  98986|\n",
      "|    R|  84753|\n",
      "|    E|  66410|\n",
      "|    Z|   1118|\n",
      "|    D|    344|\n",
      "|    T|      7|\n",
      "+-----+-------+\n",
      "\n",
      "+--------------+------+\n",
      "|           CMD| count|\n",
      "+--------------+------+\n",
      "|          atop|441180|\n",
      "|       apache2|313143|\n",
      "|      vmtoolsd|112029|\n",
      "|          Xorg| 66813|\n",
      "|      nautilus| 63449|\n",
      "|gnome-terminal| 47628|\n",
      "|        compiz| 44386|\n",
      "|    irqbalance| 44324|\n",
      "|      ostinato| 42979|\n",
      "|         drone| 41390|\n",
      "+--------------+------+\n",
      "only showing top 10 rows\n",
      "\n"
     ]
    }
   ],
   "source": [
    "#for each non-numeric feature in each activity, display the top-10 values and the corresponding counts\n",
    "show_top10_for_each_col(df_str_mem)"
   ]
  },
  {
   "cell_type": "markdown",
   "metadata": {},
   "source": [
    "<strong>3.For each activity, present two plots3 worthy of presenting to the StopHacking\n",
    "company, describe your plots and discuss the findings from the plots<strong>"
   ]
  },
  {
   "cell_type": "markdown",
   "metadata": {},
   "source": [
    "* [click here to skip analysising process and jump to Correlation-Matrix Chart](#one)"
   ]
  },
  {
   "cell_type": "markdown",
   "metadata": {},
   "source": [
    "* [click here to skip analysising process and jump to Column-attack analysis chart](#two)"
   ]
  },
  {
   "cell_type": "markdown",
   "metadata": {},
   "source": [
    "* [click here to skip analysising process and jump to analysis report](#three)"
   ]
  },
  {
   "cell_type": "markdown",
   "metadata": {},
   "source": [
    "<h>Process:<h>\n",
    "    <p>RTPR is always 0 therefore will not be included<p>"
   ]
  },
  {
   "cell_type": "code",
   "execution_count": 15,
   "metadata": {},
   "outputs": [],
   "source": [
    "from pyspark.sql import *\n",
    "# function to get the unorm ratio (unattack/ attack); e.g. in the initial df, the amount of attack : unattack = 1:5, therefore within a \n",
    "# column, if there is a column value makes the ration become far more larger or smaller than the norm ratio, then it means that \n",
    "# this column may be helpful to clssify the attacked/unattacked data\n",
    "def check_unorm_ratio(df, norm_ratio):\n",
    "#     stringColumn = [c[0] for c in df.dtypes if c[1] == \"string\"]\n",
    "    final_dict = {}\n",
    "    final_temp = []\n",
    "    values = {}\n",
    "    for c in df.columns:\n",
    "        values.clear()\n",
    "        if c not in [\"PID\",\"ts\",\"attack\",\"type\"]:\n",
    "            df_temp = df.select(c,\"attack\")\n",
    "            df_attack = df_temp.filter(col(\"attack\") == 1)\n",
    "            unattack_top3_list = df_temp.filter(col(\"attack\") == 0).groupBy(c).count().sort(\"count\",ascending = False).take(3)\n",
    "            for item in unattack_top3_list:\n",
    "            # store the top 3 highest cloumn value in unattacked data\n",
    "                values[item[c]] = item[\"count\"]\n",
    "                # fetch the corrospond count number in attacked data and calculate the ratio\n",
    "            for col_value in values.keys():\n",
    "                attack_count_list = df_attack.filter(col(c) == col_value).groupBy(c).count().take(1)\n",
    "                #store the ratio of unAttack amount/ attack amount\n",
    "                values[col_value] = values[col_value]/attack_count_list[0][\"count\"]\n",
    "            for items in values.items():\n",
    "                if items[1] >= (norm_ratio + 1.5) or items[1] <= (norm_ratio - 1.5):\n",
    "                    final_temp += tuple(items)    \n",
    "            final_dict[c] = final_temp\n",
    "            final_temp = []\n",
    "    return final_dict\n",
    "unorm_ratio = check_unorm_ratio(df_process,5.6)"
   ]
  },
  {
   "cell_type": "code",
   "execution_count": 12,
   "metadata": {},
   "outputs": [
    {
     "ename": "ZeroDivisionError",
     "evalue": "division by zero",
     "output_type": "error",
     "traceback": [
      "\u001b[0;31m---------------------------------------------------------------------------\u001b[0m",
      "\u001b[0;31mZeroDivisionError\u001b[0m                         Traceback (most recent call last)",
      "\u001b[0;32m<ipython-input-12-a6d578a9e9fe>\u001b[0m in \u001b[0;36m<module>\u001b[0;34m\u001b[0m\n\u001b[1;32m      1\u001b[0m \u001b[0ma\u001b[0m \u001b[0;34m=\u001b[0m \u001b[0mdf_process\u001b[0m\u001b[0;34m.\u001b[0m\u001b[0mselect\u001b[0m\u001b[0;34m(\u001b[0m\u001b[0;34m\"TRUN\"\u001b[0m\u001b[0;34m,\u001b[0m\u001b[0;34m\"attack\"\u001b[0m\u001b[0;34m)\u001b[0m\u001b[0;34m.\u001b[0m\u001b[0mfilter\u001b[0m\u001b[0;34m(\u001b[0m\u001b[0mcol\u001b[0m\u001b[0;34m(\u001b[0m\u001b[0;34m\"TRUN\"\u001b[0m\u001b[0;34m)\u001b[0m \u001b[0;34m==\u001b[0m \u001b[0;36m20\u001b[0m\u001b[0;34m)\u001b[0m\u001b[0;34m.\u001b[0m\u001b[0mfilter\u001b[0m\u001b[0;34m(\u001b[0m\u001b[0mcol\u001b[0m\u001b[0;34m(\u001b[0m\u001b[0;34m\"attack\"\u001b[0m\u001b[0;34m)\u001b[0m \u001b[0;34m==\u001b[0m \u001b[0;36m1\u001b[0m\u001b[0;34m)\u001b[0m\u001b[0;34m.\u001b[0m\u001b[0mcount\u001b[0m\u001b[0;34m(\u001b[0m\u001b[0;34m)\u001b[0m\u001b[0;34m\u001b[0m\u001b[0;34m\u001b[0m\u001b[0m\n\u001b[1;32m      2\u001b[0m \u001b[0mb\u001b[0m \u001b[0;34m=\u001b[0m \u001b[0mdf_process\u001b[0m\u001b[0;34m.\u001b[0m\u001b[0mselect\u001b[0m\u001b[0;34m(\u001b[0m\u001b[0;34m\"TRUN\"\u001b[0m\u001b[0;34m,\u001b[0m\u001b[0;34m\"attack\"\u001b[0m\u001b[0;34m)\u001b[0m\u001b[0;34m.\u001b[0m\u001b[0mfilter\u001b[0m\u001b[0;34m(\u001b[0m\u001b[0mcol\u001b[0m\u001b[0;34m(\u001b[0m\u001b[0;34m\"TRUN\"\u001b[0m\u001b[0;34m)\u001b[0m \u001b[0;34m==\u001b[0m \u001b[0;36m20\u001b[0m\u001b[0;34m)\u001b[0m\u001b[0;34m.\u001b[0m\u001b[0mfilter\u001b[0m\u001b[0;34m(\u001b[0m\u001b[0mcol\u001b[0m\u001b[0;34m(\u001b[0m\u001b[0;34m\"attack\"\u001b[0m\u001b[0;34m)\u001b[0m \u001b[0;34m==\u001b[0m \u001b[0;36m0\u001b[0m\u001b[0;34m)\u001b[0m\u001b[0;34m.\u001b[0m\u001b[0mcount\u001b[0m\u001b[0;34m(\u001b[0m\u001b[0;34m)\u001b[0m\u001b[0;34m\u001b[0m\u001b[0;34m\u001b[0m\u001b[0m\n\u001b[0;32m----> 3\u001b[0;31m \u001b[0mprint\u001b[0m\u001b[0;34m(\u001b[0m\u001b[0mb\u001b[0m\u001b[0;34m/\u001b[0m\u001b[0ma\u001b[0m\u001b[0;34m)\u001b[0m\u001b[0;34m\u001b[0m\u001b[0;34m\u001b[0m\u001b[0m\n\u001b[0m",
      "\u001b[0;31mZeroDivisionError\u001b[0m: division by zero"
     ]
    }
   ],
   "source": [
    "a = df_process.select(\"TRUN\",\"attack\").filter(col(\"TRUN\") == 20).filter(col(\"attack\") == 1).count()\n",
    "b = df_process.select(\"TRUN\",\"attack\").filter(col(\"TRUN\") == 20).filter(col(\"attack\") == 0).count()\n",
    "print(b/a)"
   ]
  },
  {
   "cell_type": "code",
   "execution_count": 16,
   "metadata": {},
   "outputs": [
    {
     "name": "stdout",
     "output_type": "stream",
     "text": [
      "{'TRUN': [], 'TSLPI': [], 'TSLPU': [1, 1.2606060606060605, 10, 1.6], 'POLI': ['-', 1.7544885177453027], 'NICE': [20, 8.488507106457092, 1, 3.1043139166463565], 'PRI': [100, 8.488507106457092, 0, 4.026871546438574], 'RTPR': [], 'CPUNR': [], 'Status': ['-', 8.152086537343138, '0', 2.5987309707090334], 'EXC': [1, 3.0774731823599524, 15, 2.374331550802139], 'State': [], 'CPU': [], 'CMD': ['atop', 8.49202865810366]}\n"
     ]
    }
   ],
   "source": [
    "print(unorm_ratio)"
   ]
  },
  {
   "cell_type": "code",
   "execution_count": 65,
   "metadata": {},
   "outputs": [
    {
     "name": "stdout",
     "output_type": "stream",
     "text": [
      "+-------+-------------------+-----------------+-------------------+------+-----------------+------------------+------+------------------+------+-------------------+------+--------------------+-------------+------+\n",
      "|summary|               TRUN|            TSLPI|              TSLPU|  POLI|             NICE|               PRI|  RTPR|             CPUNR|Status|                EXC| State|                 CPU|          CMD|attack|\n",
      "+-------+-------------------+-----------------+-------------------+------+-----------------+------------------+------+------------------+------+-------------------+------+--------------------+-------------+------+\n",
      "|  count|             291364|           291364|             291364|291364|           291364|            291364|291364|            291364|291364|             291364|291364|              291364|       291364|291364|\n",
      "|   mean|0.05816779011820266|4.368103128732445|9.43836575554976E-4|   0.0|3.278098872887522|111.33200395381722|   0.0|1.9333273843027965|   0.0|0.02737812495709834|  null|0.013083085075713926|         null|   1.0|\n",
      "| stddev|0.24461521509734374|8.722959695834946|0.06398169967971007|   0.0|7.341691039369971|25.346355061639887|   0.0|1.6103546714638848|   0.0| 0.9017269518075719|  null| 0.10454579454779454|         null|   0.0|\n",
      "|    min|                  0|                0|                  0|     -|                0|                 0|     0|                 0|     -|                  0|     D|                 0.0|     (sd-pam)|     1|\n",
      "|    max|                  9|               70|                 10|  norm|               20|               139|     0|                 5|    NS|                127|     Z|                4.02|zeitgeist-fts|     1|\n",
      "+-------+-------------------+-----------------+-------------------+------+-----------------+------------------+------+------------------+------+-------------------+------+--------------------+-------------+------+\n",
      "\n",
      "+-------+-------------------+------------------+--------------------+-------+-----------------+------------------+-------+------------------+-------+-------------------+-------+--------------------+-------------+-------+\n",
      "|summary|               TRUN|             TSLPI|               TSLPU|   POLI|             NICE|               PRI|   RTPR|             CPUNR| Status|                EXC|  State|                 CPU|          CMD| attack|\n",
      "+-------+-------------------+------------------+--------------------+-------+-----------------+------------------+-------+------------------+-------+-------------------+-------+--------------------+-------------+-------+\n",
      "|  count|            1636604|           1636604|             1636604|1636604|          1636604|           1636604|1636604|           1636604|1636604|            1636604|1636604|             1636604|      1636604|1636604|\n",
      "|   mean|0.06412974671942633|3.3552698148116464|2.572399920811632E-4|    0.0|4.875943722488763|111.25692042791047|    0.0|1.9188221463469477|    0.0|0.03079119933716403|   null|0.024041338039017184|         null|    0.0|\n",
      "| stddev|0.24838237177802971| 6.620575315037124|0.039680433861678875|    0.0|8.555888969036427|22.104735251739225|    0.0|  1.51215010229126|    0.0| 1.5404676511110225|   null| 0.14113009879850744|         null|    0.0|\n",
      "|    min|                  0|                 0|                   0|      -|                0|                 0|      0|                 0|      -|                  0|      D|                 0.0|    (fprintd)|      0|\n",
      "|    max|                 12|                70|                  21|   norm|               20|               139|      0|                 5|     NS|                127|      Z|                 4.0|zeitgeist-fts|      0|\n",
      "+-------+-------------------+------------------+--------------------+-------+-----------------+------------------+-------+------------------+-------+-------------------+-------+--------------------+-------------+-------+\n",
      "\n"
     ]
    }
   ],
   "source": [
    "# calculate the mean and stdev of process when attack = 1 / 0\n",
    "df_process_analysis.filter(col(\"attack\") == 1).describe().show()\n",
    "df_process_analysis.filter(col(\"attack\") == 0).describe().show()"
   ]
  },
  {
   "cell_type": "markdown",
   "metadata": {},
   "source": [
    "# memory\n",
    "<p>CMD = atop时<p>\n",
    "    <p>MINFLT mean： attack:unattack = 5717:440<p>\n",
    "<p>MAJFLT mean: 9218253:44699<p>\n",
    "<p>VSTEXT mean： attack:unattack = 412013:4562<p>\n",
    "<p>VSIZE mean： attack:unattack = 4478:4498<p>\n",
    "<p>RSIZE mean： attack:unattack = 171570:6780<p>\n",
    "<p>VGROW mean： attack:unattack =  7761:207<p>\n",
    "<p>RGROW mean： attack:unattack = 393:493<p>\n",
    "<p>MEM mean： attack:unattack = 0.003745835825757:.003343834656819..<p>"
   ]
  },
  {
   "cell_type": "code",
   "execution_count": 66,
   "metadata": {},
   "outputs": [
    {
     "name": "stdout",
     "output_type": "stream",
     "text": [
      "+-------+------------------+--------------------+-----------------+------------------+------------------+------------------+------------------+--------------------+------+\n",
      "|summary|            MINFLT|              MAJFLT|           VSTEXT|             VSIZE|             RSIZE|             VGROW|             RGROW|                 MEM|attack|\n",
      "+-------+------------------+--------------------+-----------------+------------------+------------------+------------------+------------------+--------------------+------+\n",
      "|  count|            205623|              205623|           205623|            205623|            205623|            205623|            205623|              205623|205623|\n",
      "|   mean| 5717.964746161665|   9218253.935464477|412013.0236062977|4478.5158357772825|171570.38996123968|   7761.9739497527|393.79196101603424|0.003745835825757...|   1.0|\n",
      "| stddev|26157.322501851948|4.4520298033613175E7|1978815.981794021| 9948.231067524222| 6032937.245317878|262014.42337658742|1388.3423897261932|0.011931470369418997|   0.0|\n",
      "|    min|               0.0|                 0.0|              0.0|               0.0|           -6656.0|        -9392000.0|               0.0|                 0.0|     1|\n",
      "|    max|          132000.0|             2.244E8|           1.12E7|           78328.0|           2.244E8|           1.116E7|           77052.0|                 0.4|     1|\n",
      "+-------+------------------+--------------------+-----------------+------------------+------------------+------------------+------------------+--------------------+------+\n",
      "\n",
      "+-------+------------------+------------------+-----------------+-----------------+------------------+------------------+------------------+--------------------+-------+\n",
      "|summary|            MINFLT|            MAJFLT|           VSTEXT|            VSIZE|             RSIZE|             VGROW|             RGROW|                 MEM| attack|\n",
      "+-------+------------------+------------------+-----------------+-----------------+------------------+------------------+------------------+--------------------+-------+\n",
      "|  count|           1794377|           1794377|          1794377|          1794377|           1794377|           1794377|           1794377|             1794377|1794377|\n",
      "|   mean|440.79010319459064|44699.717886808176| 4562.69465736584|4498.471654060758| 6780.603537273917|207.81216971127026| 493.4172922969922|0.003343834656819...|    0.0|\n",
      "| stddev|18190.215841045574| 3126687.530442314|133681.5106574347|8937.177737041204|473637.04611058155|20106.233424258466|1502.5034066549117|0.010823680851144196|    0.0|\n",
      "|    min|               0.0|               0.0|              0.0|              0.0|           -9728.0|           -7036.0|               0.0|                 0.0|      0|\n",
      "|    max|         8050000.0|           2.244E8|         1.1196E7|          88040.0|           2.242E8|         9392000.0|           98920.0|                0.44|      0|\n",
      "+-------+------------------+------------------+-----------------+-----------------+------------------+------------------+------------------+--------------------+-------+\n",
      "\n"
     ]
    }
   ],
   "source": [
    "col_analy_mem = [\"MINFLT\",\"MAJFLT\",\"VSTEXT\",\"VSIZE\",\"RSIZE\",\"VGROW\",\"RGROW\",\"MEM\",\"attack\"]\n",
    "df_mem_analysis = df_memory.select(col_analy_mem)\n",
    "\n",
    "df_mem_analysis.filter(col(\"attack\") == 1).describe().show()\n",
    "df_mem_analysis.filter(col(\"attack\") == 0).describe().show()"
   ]
  },
  {
   "cell_type": "markdown",
   "metadata": {},
   "source": [
    "Correlation Matrix Calculation"
   ]
  },
  {
   "cell_type": "code",
   "execution_count": 14,
   "metadata": {},
   "outputs": [],
   "source": [
    "from pyspark.ml.stat import Correlation\n",
    "from pyspark.ml.feature import VectorAssembler\n",
    "from pyspark.ml.feature import StringIndexer\n",
    "from pyspark.ml.feature import OneHotEncoder\n",
    "\n",
    "mem_string_input = [\"CMD\",\"type\"]\n",
    "mem_string_output=[f'{x}_index' for x in mem_string_input]\n",
    "indexer = StringIndexer(inputCols = mem_string_input,outputCols = mem_string_output)\n",
    "df_mem_indexed = indexer.fit(df_memory).transform(df_memory)\n",
    "\n",
    "\n",
    "vector_col_mem = \"corr_features_mem\"\n",
    "input_ass_mem = [c for c in df_memory.columns if c not in [\"CMD\",\"type\"]]\n",
    "input_ass_mem = input_ass_mem + mem_string_output\n",
    "assembler = VectorAssembler(inputCols=input_ass_mem, outputCol=vector_col_mem)\n",
    "df_vector_mem = assembler.transform(df_mem_indexed.select(input_ass_mem)).select(vector_col_mem)\n",
    "\n",
    "\n",
    "# get correlation matrix\n",
    "matrix_mem = Correlation.corr(df_vector_mem, vector_col_mem).collect()[0][0]\n",
    "corrmatrix_mem = matrix_mem.toArray().tolist()\n",
    " \n"
   ]
  },
  {
   "cell_type": "code",
   "execution_count": 15,
   "metadata": {},
   "outputs": [],
   "source": [
    "\n",
    "from pyspark.ml import Pipeline\n",
    "categoryCols = [c[0] for c in df_process.dtypes if c[1] == \"string\"]\n",
    "numericInputCols = [c for c in df_process.columns if c not in categoryCols]\n",
    "\n",
    "\n",
    "\n",
    "outputCols=[f'{x}_index' for x in categoryCols]\n",
    "\n",
    "inputIndexer = StringIndexer(inputCols=categoryCols, outputCols=outputCols)\n",
    "\n",
    "\n",
    "assemblerInputs = outputCols + numericInputCols\n",
    "assembler = VectorAssembler(inputCols = assemblerInputs, outputCol=\"corr_features_pro\")\n",
    "\n",
    "stage_1 = inputIndexer\n",
    "stage_2 = assembler\n",
    "\n",
    "pipeline = Pipeline(stages = [stage_1,stage_2])\n",
    "pipelineModel = pipeline.fit(df_process)\n",
    "df_vector_pro = pipelineModel.transform(df_process).select(\"corr_features_pro\")\n",
    "# df_vector_pro = pipelineModel.transform(df_process)\n",
    "\n",
    "# get correlation matrix\n",
    "matrix_pro = Correlation.corr(df_vector_pro, \"corr_features_pro\").collect()[0][0]\n",
    "# matrix_pro = Correlation.corr(df_vector_pro, df_vector_pro.columns).collect()[0][0]\n",
    "corrmatrix_pro = matrix_pro.toArray().tolist()\n"
   ]
  },
  {
   "cell_type": "code",
   "execution_count": 122,
   "metadata": {},
   "outputs": [
    {
     "name": "stdout",
     "output_type": "stream",
     "text": [
      "['POLI', 'Status', 'State', 'CMD', 'type']\n",
      "['ts', 'PID', 'TRUN', 'TSLPI', 'TSLPU', 'NICE', 'PRI', 'RTPR', 'CPUNR', 'EXC', 'CPU', 'attack']\n"
     ]
    }
   ],
   "source": [
    "print(categoryCols)\n",
    "print(numericInputCols)"
   ]
  },
  {
   "cell_type": "markdown",
   "metadata": {},
   "source": [
    "<strong>Correlation-Matric plot<strong><a class=\"anchor\" name=\"one\"></a>"
   ]
  },
  {
   "cell_type": "code",
   "execution_count": 31,
   "metadata": {
    "scrolled": true
   },
   "outputs": [
    {
     "name": "stderr",
     "output_type": "stream",
     "text": [
      "<ipython-input-31-4a72896edda2>:10: UserWarning: FixedFormatter should only be used together with FixedLocator\n",
      "  ax.set_xticklabels([\" \"]+attr)\n",
      "<ipython-input-31-4a72896edda2>:11: UserWarning: FixedFormatter should only be used together with FixedLocator\n",
      "  ax.set_yticklabels([' ']+attr)\n"
     ]
    },
    {
     "data": {
      "image/png": "[encoded data removed]",
      "text/plain": [
       "<Figure size 432x288 with 2 Axes>"
      ]
     },
     "metadata": {
      "needs_background": "light"
     },
     "output_type": "display_data"
    },
    {
     "data": {
      "image/png": "[encoded data removed]",
      "text/plain": [
       "<Figure size 432x288 with 2 Axes>"
      ]
     },
     "metadata": {
      "needs_background": "light"
     },
     "output_type": "display_data"
    }
   ],
   "source": [
    "import matplotlib.pyplot as plt\n",
    "def plot_corr_matrix(correlations,attr,fig_no):\n",
    "    fig=plt.figure(fig_no)\n",
    "    ax=fig.add_subplot(111)\n",
    "    if \"VGROW\" in attr:\n",
    "        df = \"Memory\"\n",
    "    else:\n",
    "        df = \"Process\"\n",
    "    ax.set_title(\"Correlation Matrix for \" + df)\n",
    "    ax.set_xticklabels([\" \"]+attr)\n",
    "    ax.set_yticklabels([' ']+attr)\n",
    "    cax=ax.matshow(correlations,vmax=1,vmin=-1)\n",
    "    fig.colorbar(cax)\n",
    "    plt.show()\n",
    "\n",
    "plot_corr_matrix(corrmatrix_mem, df_memory.columns, 234)\n",
    "plot_corr_matrix(corrmatrix_pro, df_process.columns, 234)"
   ]
  },
  {
   "cell_type": "markdown",
   "metadata": {},
   "source": [
    "<strong>COl-Attack<strong><a class=\"anchor\" name=\"two\"></a>"
   ]
  },
  {
   "cell_type": "code",
   "execution_count": 32,
   "metadata": {
    "scrolled": true
   },
   "outputs": [
    {
     "data": {
      "image/png": "[encoded data removed]",
      "text/plain": [
       "<Figure size 432x288 with 1 Axes>"
      ]
     },
     "metadata": {
      "needs_background": "light"
     },
     "output_type": "display_data"
    }
   ],
   "source": [
    "# 横坐标\n",
    "label_list = ['MINFLT_Mean', 'MAJFLT_Mean', 'VSTEXT_Mean',\"VSIZE_Mean\",\"RSIZE_Mean\",'VGROW_Mean',\"RGROW_Mean\",\"MEM=0.01\"]\n",
    "\n",
    "# 纵坐标\n",
    "attack = [5717,9218253,412013,4478,171570,7761,393,26894]\n",
    "unattack = [440,44699,4562,4498,6780,207,493,106702]\n",
    "x = range(len(attack))\n",
    "\n",
    "rectAttack = plt.bar(x=x, height=attack, width=0.2, alpha=0.8,\n",
    "                   color='red', label=\"attack\")\n",
    "rectUnattack = plt.bar(x=[i + 0.2 for i in x], height=unattack,\n",
    "                  width=0.2, color='green', label=\"unattack\")\n",
    "\n",
    "\n",
    "plt.ylim(0, 1000000)     # y range\n",
    "\n",
    "\n",
    "plt.xticks([index + 0.1 for index in x], label_list)\n",
    "plt.xlabel(\"Column\")\n",
    "plt.title(\"Memory\")\n",
    "\n",
    "for rect in rectAttack:\n",
    "    height = rect.get_height()\n",
    "    plt.text(rect.get_x() + rect.get_width() / 2, height +\n",
    "             1, str(height), ha=\"center\", va=\"bottom\")\n",
    "for rect in rectUnattack:\n",
    "    height = rect.get_height()\n",
    "    plt.text(rect.get_x() + rect.get_width() / 2, height +\n",
    "             1, str(height), ha=\"center\", va=\"bottom\")\n",
    "\n",
    "plt.legend(loc=\"upper right\")\n",
    "plt.show()"
   ]
  },
  {
   "cell_type": "markdown",
   "metadata": {},
   "source": [
    "{'TRUN': [], 'TSLPI': [], 'TSLPU': [1, 1.2606060606060605, 10, 1.6], 'POLI': ['-', 1.7544885177453027], 'NICE': [20, 8.488507106457092, 1, 3.1043139166463565], 'PRI': [100, 8.488507106457092, 0, 4.026871546438574], 'RTPR': [], 'CPUNR': [], 'Status': ['-', 8.152086537343138, '0', 2.5987309707090334], 'EXC': [1, 3.0774731823599524, 15, 2.374331550802139], 'State': [], 'CPU': [], 'CMD': ['atop', 8.49202865810366]}"
   ]
  },
  {
   "cell_type": "code",
   "execution_count": 26,
   "metadata": {},
   "outputs": [
    {
     "name": "stderr",
     "output_type": "stream",
     "text": [
      "<ipython-input-26-163ef961321c>:26: MatplotlibDeprecationWarning: The 's' parameter of annotate() has been renamed 'text' since Matplotlib 3.3; support for the old name will be dropped two minor releases later.\n",
      "  plt.annotate(s='Normal Ratio',xy=(5,5.6),xytext=(5,7),weight='bold',color='aqua',\\\n"
     ]
    },
    {
     "data": {
      "image/png": "[encoded data removed]",
      "text/plain": [
       "<Figure size 432x288 with 1 Axes>"
      ]
     },
     "metadata": {
      "needs_background": "light"
     },
     "output_type": "display_data"
    }
   ],
   "source": [
    "# 横坐标\n",
    "label_list = ['TSLPU=1','POLI=-',\"NICE=20\",\"PRI=100\",\"status=-\",\"EXC=1\",\"CMD=atop\"]\n",
    "\n",
    "# 纵坐标\n",
    "attack = [1.26,1.75,8.49,8.48,8.15,3.07,8.45]\n",
    "x = range(len(attack))\n",
    "\n",
    "rectAttack = plt.bar(x=x, height=attack, width=0.2, alpha=0.8,\n",
    "                   color='red', label=\"ratio\")\n",
    "\n",
    "\n",
    "\n",
    "plt.ylim(0, 10)     # y range\n",
    "\n",
    "\n",
    "plt.xticks([index + 0.1 for index in x], label_list)\n",
    "plt.xlabel(\"unAttack Amount/attack Amount\")\n",
    "plt.title(\"Process Analysis\")\n",
    "\n",
    "for rect in rectAttack:\n",
    "    height = rect.get_height()\n",
    "    plt.text(rect.get_x() + rect.get_width() / 2, height +\n",
    "             1, str(height), ha=\"center\", va=\"bottom\")\n",
    "\n",
    "plt.axhline(y=5.6, color='g', linestyle='-')\n",
    "plt.annotate(s='Normal Ratio',xy=(5,5.6),xytext=(5,7),weight='bold',color='aqua',\\\n",
    "             arrowprops=dict(arrowstyle='-|>',connectionstyle='arc3',color='red'),\\\n",
    "            bbox=dict(boxstyle='round,pad=0.5', fc='yellow', ec='k',lw=1 ,alpha=0.4))\n",
    "\n",
    "plt.legend(loc=\"upper right\")\n",
    "plt.show()"
   ]
  },
  {
   "cell_type": "markdown",
   "metadata": {},
   "source": [
    "<strong>Analysis Report<strong><a class=\"anchor\" name=\"three\"></a>"
   ]
  },
  {
   "cell_type": "markdown",
   "metadata": {},
   "source": [
    "<p>This report analysis the correlation between columns and the possibility that a column may be helpful to determine whether it is attack/unattack activity.<p>\n",
    "<p>For the correlation analysis, we calculated the correlation matrix to indicate the realationship.The result is within range -1 to 1, and the more it is closer to |1|, the more correlated the columns is, 1 means 100% positive related, -1 means 100% negative related<p>\n",
    "<p>For column-label analysis, we used mean value to analysis the memory dataset and the ratio of attacked amount and unattacked amount to do the analysis<p>\n",
    "<p>Finally, column \"RTPR\" in process is not used to do the analysis since the value of it is always 0<p>\n",
    "    <p>Here is the analysis detail<p>"
   ]
  },
  {
   "cell_type": "markdown",
   "metadata": {},
   "source": [
    "<strong>Memery Dataset Analysis<strong>"
   ]
  },
  {
   "cell_type": "markdown",
   "metadata": {},
   "source": [
    "Correlation Analysis :\n",
    "<p>columns that are correlated in Memory DF(correlation value > 0.5 / < -0.5)<p>\n",
    "<p>ts: VSTEXT (positive correlated)<p>\n",
    "<p>PID:MINFLT(positive correlated)<p>\n",
    "<p>VSIZE:RSIZE(positive correlated)<p>\n",
    "<p>RSIZE:MINFLT(positive correlated)<p>\n",
    "\n",
    "column-attack Analysis:\n",
    "<p>As shown in plot, \n",
    "When a record is labeled as attack/unattack, there is huge different in the mean value among following column:<p>\n",
    "['MINFLT_Mean', 'MAJFLT_Mean', 'VSTEXT_Mean',\"VSIZE_Mean\",\"RSIZE_Mean\",'VGROW_Mean',\"RGROW_Mean\"]; \n",
    "    <p>This shows the prossibility that theses columns value may have a different range of value when it is attacked record or unattacked ones. For example, as shown in plot the mean value of VSTEXT for attacked/unattacked activity is 412013 and 4562 respectively, therefore if a record's VSTEXT value is 400000, then is would be more likely to be an attacking activity<p>\n",
    "        <p>Besides, because of the nature of \"MEM\" value, the mean value of it is amolst same; however, when MEM = 1, there is a huge different between the amount of attack/ unattack record (26894:106702). Therefore, we would consider \"MEM\" is helpful to differentiate the label because for example, if the \"MEM\" value within a record is 1, then it is more likely to be an unattacked activity. \n",
    "\n",
    "<p>\n",
    "\n"
   ]
  },
  {
   "cell_type": "markdown",
   "metadata": {},
   "source": [
    "<strong>Process Dataset Analysis<strong>"
   ]
  },
  {
   "cell_type": "markdown",
   "metadata": {},
   "source": [
    "Correlation Analysis :\n",
    "<p>ts:PID(positive correlated)<p> \n",
    "    <p>TSLPT(positive correlated)<p>\n",
    "<p>TRUN:RTPR(Strong positive correlated)<p>\n",
    "\n",
    "\n",
    "COL-Attack:\n",
    "<p>Firstly, within the process dataset, (the total amount of unattacked data / amount of attacked) is 5.6. Therefore, if there is a column value in a column which makes the ratio far more than or less than 5.6, then we would consider it as a helpful column to classify the label since otherwise the ratio should be similar to 5.6<p>\n",
    "\n",
    "<p>Therefore, as some picked examples shown in plot, when the columns listed in the chart equals to the specific value, the record will have a strong possibility to be attacked if the ratio is small than 5.6 or to be unattacked if the ratio larger than 5.6. For example, if column TSLPU = 1, the record is more likely to be an attack one <p>"
   ]
  },
  {
   "cell_type": "markdown",
   "metadata": {},
   "source": [
    "# 2. Feature extraction and ML training"
   ]
  },
  {
   "cell_type": "markdown",
   "metadata": {},
   "source": [
    "<strong>2.1 Preparing the training data and testing data (4%)<strong>"
   ]
  },
  {
   "cell_type": "markdown",
   "metadata": {},
   "source": [
    "<h>1. Randomly split the dataset into 80% training data and 20% testing data for each use\n",
    "case<h>"
   ]
  },
  {
   "cell_type": "code",
   "execution_count": 7,
   "metadata": {},
   "outputs": [],
   "source": [
    "train_memory, test_memory = df_memory.randomSplit([0.8, 0.2], seed = 2020)\n",
    "train_process, test_process = df_process.randomSplit([0.8, 0.2], seed = 2020)"
   ]
  },
  {
   "cell_type": "markdown",
   "metadata": {},
   "source": [
    "<p>2. With the class imbalance observed from 1.3.1, for the binary classification use case 1\n",
    "& 2, prepare rebalanced training data, with attack events and non-attack events\n",
    "being 1:2 ratio, while using 20%4 attack events data from the training data from 2.1.1.\n",
    "Cache the rebalanced training data, and display the count of each event's data.<p>\n",
    "<p>○ Hint - you can use undersampling to get the rebalanced training data<p>"
   ]
  },
  {
   "cell_type": "code",
   "execution_count": 8,
   "metadata": {},
   "outputs": [],
   "source": [
    "# firstly create new df that contains 20% of attack in training data and all unattacked records in training data \n",
    "train_memory_attack = train_memory.filter(col(\"attack\") == 1).sample(False,0.2)\n",
    "train_memory_unattack = train_memory.filter(col(\"attack\") == 0)\n",
    "train_memory_temp = train_memory_attack.union(train_memory_unattack)\n",
    "\n",
    "train_process_attack = train_process.filter(col(\"attack\") == 1).sample(False,0.2)\n",
    "train_process_unattack = train_process.filter(col(\"attack\") == 0)\n",
    "train_process_temp = train_process_attack.union(train_process_unattack)\n",
    "\n",
    "\n",
    "# define the funtion to undersample the data\n",
    "#df is the df to be resampled\n",
    "#ratio is ratio\n",
    "#class_field is the label column\n",
    "#base_class is the label column value that is regarded as positive\n",
    "def resample(df,ratio,class_field,base_class):\n",
    "    pos = df.filter(col(class_field)==base_class)\n",
    "    neg = df.filter(col(class_field)!=base_class)\n",
    "    total_pos = pos.count()\n",
    "    total_neg = neg.count()\n",
    "    fraction= (total_pos * ratio) / total_neg\n",
    "    sampled = neg.sample(False,fraction)\n",
    "    return sampled.union(pos)\n",
    "\n",
    "train_memory_resampled = resample(train_memory_temp,2,\"attack\",1)\n",
    "train_process_resampled = resample(train_process_temp,2,\"attack\",1)\n",
    "\n"
   ]
  },
  {
   "cell_type": "code",
   "execution_count": 9,
   "metadata": {},
   "outputs": [],
   "source": [
    "train_memory_resampled = train_memory_resampled.cache()\n",
    "train_process_resampled = train_process_resampled.cache()"
   ]
  },
  {
   "cell_type": "code",
   "execution_count": 112,
   "metadata": {},
   "outputs": [
    {
     "data": {
      "text/plain": [
       "99337"
      ]
     },
     "execution_count": 112,
     "metadata": {},
     "output_type": "execute_result"
    }
   ],
   "source": [
    "train_memory_resampled.count()"
   ]
  },
  {
   "cell_type": "code",
   "execution_count": 113,
   "metadata": {},
   "outputs": [
    {
     "data": {
      "text/plain": [
       "32987"
      ]
     },
     "execution_count": 113,
     "metadata": {},
     "output_type": "execute_result"
    }
   ],
   "source": [
    "train_memory_resampled.filter(col(\"attack\") == 1).count()"
   ]
  },
  {
   "cell_type": "code",
   "execution_count": 114,
   "metadata": {},
   "outputs": [
    {
     "data": {
      "text/plain": [
       "139729"
      ]
     },
     "execution_count": 114,
     "metadata": {},
     "output_type": "execute_result"
    }
   ],
   "source": [
    "train_process_resampled.count()"
   ]
  },
  {
   "cell_type": "code",
   "execution_count": 115,
   "metadata": {},
   "outputs": [
    {
     "data": {
      "text/plain": [
       "46698"
      ]
     },
     "execution_count": 115,
     "metadata": {},
     "output_type": "execute_result"
    }
   ],
   "source": [
    "train_process_resampled.filter(col(\"attack\") == 1).count()"
   ]
  },
  {
   "cell_type": "markdown",
   "metadata": {},
   "source": [
    "<strong>2.2 Preparing features, labels and models (16%)<strong>"
   ]
  },
  {
   "cell_type": "markdown",
   "metadata": {},
   "source": [
    "<p>1. Based on data exploration from 1.3.3, which features would you select? Discuss the\n",
    "reason for selecting them and how you plan to further transform them5.<p>\n",
    "<p>○ 400 words max for the discussion<p>\n",
    "<p>○ Hint - things to consider include whether to scale the numeric data, whether to\n",
    "choose one-hot encoding or string-indexing for a specific model<p>"
   ]
  },
  {
   "cell_type": "markdown",
   "metadata": {},
   "source": [
    "# Feature Selection Report"
   ]
  },
  {
   "cell_type": "markdown",
   "metadata": {},
   "source": [
    "<strong>Overall<strong>"
   ]
  },
  {
   "cell_type": "markdown",
   "metadata": {},
   "source": [
    "<p>Firstly, ”PID” will not be selected in both usecases. This is because that although “PID” is coreelated with certain columns as analysis shows in 1.3.3,“PID” is a meaningless data which is just a id of process that created randomly by the system and the value of it will not be same even if it is the same process. For example, if there is a process A that do the hacking work, and in a machine of Mel the id of it might be 100, but in the another machine in Sydeny, the id of process A might be 10000. Therefore id is not helpful to classify the label<p>\n",
    "<p>Next, \"ts\" in both dataset will be selected since the time that the process running might be helpful to classify attacking activity, for example, if a process is running in 3:00 AM, then it might be an attacking one since it is off-work time.<p>\n",
    "\n"
   ]
  },
  {
   "cell_type": "markdown",
   "metadata": {},
   "source": [
    "<strong>Memory selection<strong>"
   ]
  },
  {
   "cell_type": "markdown",
   "metadata": {},
   "source": [
    "<p>Selected :['ts',MINFLT','MAJFLT','VSTEXT',VSIZE','RSIZE','VGROW','RGROW','MEM','CMD']<p>\n",
    "    <p>Firstly, as analysised in 1.3.3, while “MEM””CMD” sees a huge gap in amount of attck/unattck records in ceratin values, other columns has a huge gap of mean values for attack/unattack.Therefore, the gap of mean values can be helpful to classify the label. For example, if MINFLT value is 400, then it is more likely to be an attacked records, and if it is 400000, then it is more likely to be unattacked one.<p>\n",
    "<p>Besides, column ts-VSTEXT,VSIZE-RSIZE,RSIZE-MINFLT is correlated which is also helpful to build the model <p>\n"
   ]
  },
  {
   "cell_type": "markdown",
   "metadata": {},
   "source": [
    "<strong>Process selection<strong>"
   ]
  },
  {
   "cell_type": "markdown",
   "metadata": {},
   "source": [
    "<p>selected:[\"ts\",'TSLPU', 'POLI', 'NICE', 'PRI', 'Status', 'EXC', 'CMD']<p>\n",
    "    <p>Firstly, As plot shown in 1.3.3, when these columns equals to a specific value, the ratio of attack amount/unattack amount is far from the normal ratio which is 5.6. Specifically, the record will have a strong possibility to be attacked if the ratio is small than 5.6 or to be unattacked if the ratio larger than 5.6<p>\n",
    "        <p>Besides, ts-TSLPT is correlated as shown in 1.3.3,which is helpful to build the model<p>\n",
    "            <p>Finally, althogh ts-PID, TRUN-RTPR is correlated, they are not selected since there is no unornal ratio within theses columns<p>"
   ]
  },
  {
   "cell_type": "markdown",
   "metadata": {},
   "source": [
    "<strong>Transform plan:<strong>"
   ]
  },
  {
   "cell_type": "markdown",
   "metadata": {},
   "source": [
    "<p>1. For string col in both usecases:<p>\n",
    "<p>string indexer + one-hot encoder;<p>\n",
    "<p>2. For all features including the processed string columns<p>\n",
    "<p>VectorAssembler(processed categrical cols + numerical cols) + StandardScaler <p>\n",
    "    <p>Explain:<p>\n",
    "<p>Fisrtly use indexer to transform string to a numerical value since ML cannot recognize string values, but the indexer will has “big num” and “small num” therefore it should be further transformed to vector since ML thinks “the bigger one is better than small one”<p>\n",
    "\n",
    "<p>Then combine all the features into one column and use StandardScaler to process the data\n",
    "This is because the column values are in a wide range, using the StandardScaler can meke data be limited to a certain range and thereby eliminating the adverse effects caused by singular sample data. Therefore the process of traning data will be benifited, shorting the training time <p>\n",
    "\n"
   ]
  },
  {
   "cell_type": "markdown",
   "metadata": {},
   "source": [
    "---------"
   ]
  },
  {
   "cell_type": "markdown",
   "metadata": {},
   "source": [
    "<p>2. Create Transformers / Estimators for transforming / assembling the features you\n",
    "selected above in 2.2.1<p>\n",
    "<p>○ (Bonus Task 5%) Create a custom Transformer for the column “POLI” so that\n",
    "the types of policy, [“norm”, “btch”, “idle”, “fifo”, “rr”, “0”, “-”], can be mapped to\n",
    "the following numbers, [0, 1, 2, 3, 4, 5, 6].<p>"
   ]
  },
  {
   "cell_type": "code",
   "execution_count": 16,
   "metadata": {},
   "outputs": [],
   "source": [
    "from pyspark.ml.classification import DecisionTreeClassifier,GBTClassifier\n",
    "from pyspark.ml.feature import StandardScaler\n",
    "# build the new df\n",
    "col_selected_mem = ['ts','MINFLT','MAJFLT','VSTEXT','VSIZE','RSIZE','VGROW','RGROW','MEM','CMD']\n",
    "col_selected_pro = [\"ts\",'TSLPU', 'POLI', 'NICE', 'PRI', 'Status', 'EXC', 'CMD']\n",
    "df_memory_train_selected = train_memory_resampled.select(col_selected_mem + [\"attack\"])\n",
    "df_process_train_selected = train_process_resampled.select(col_selected_pro + [\"attack\"])\n",
    "#create transformers/estimators\n",
    "# For process dataset\n",
    "stringCols_pro = [c[0] for c in df_process_train_selected.dtypes if c[1] == \"string\"]\n",
    "numericInputCols_pro = [c for c in df_process_train_selected.columns if c not in (stringCols_pro + [\"attack\"])]\n",
    "\n",
    "\n",
    "outputCols_index_pro=[f'{x}_index' for x in stringCols_pro]\n",
    "inputIndexer_pro = StringIndexer(inputCols=stringCols_pro, outputCols=outputCols_index_pro).setHandleInvalid(\"keep\")\n",
    "\n",
    "inputCols_OHE_pro = [x for x in outputCols_index_pro]\n",
    "outputCols_OHE_pro = [f'{x}_vec' for x in stringCols_pro]\n",
    "encoder = OneHotEncoder(inputCols=inputCols_OHE_pro,outputCols=outputCols_OHE_pro)\n",
    "\n",
    "assemblerInputs_pro = outputCols_OHE_pro + numericInputCols_pro\n",
    "assembler = VectorAssembler(inputCols = assemblerInputs_pro, outputCol=\"features\")\n",
    "\n",
    "scaler = StandardScaler(inputCol='features', outputCol='scaledFeatures')\n",
    "\n",
    "dt = DecisionTreeClassifier(featuresCol = 'scaledFeatures', labelCol = 'attack')\n",
    "\n",
    "GBT = GBTClassifier(featuresCol = 'scaledFeatures', labelCol = 'attack')\n",
    "\n",
    "pro_pipeline_dt = Pipeline(stages = [inputIndexer_pro,encoder,assembler,scaler,dt])\n",
    "pro_pipeline_GBT = Pipeline(stages = [inputIndexer_pro,encoder,assembler,scaler,GBT])"
   ]
  },
  {
   "cell_type": "code",
   "execution_count": 17,
   "metadata": {},
   "outputs": [],
   "source": [
    "#create transformers/estimators\n",
    "# For memory dataset\n",
    "stringCols_mem = [c[0] for c in df_memory_train_selected.dtypes if c[1] == \"string\"]\n",
    "numericInputCols_mem = [c for c in df_memory_train_selected.columns if c not in (stringCols_mem + [\"attack\"])]\n",
    "\n",
    "\n",
    "outputCols_index_mem=[f'{x}_index' for x in stringCols_mem]\n",
    "inputIndexer_mem = StringIndexer(inputCols=stringCols_mem, outputCols=outputCols_index_mem).setHandleInvalid(\"keep\")\n",
    "\n",
    "inputCols_OHE_mem = [x for x in outputCols_index_mem]\n",
    "outputCols_OHE_mem = [f'{x}_vec' for x in stringCols_mem]\n",
    "encoder_mem = OneHotEncoder(inputCols=inputCols_OHE_mem,outputCols=outputCols_OHE_mem)\n",
    "\n",
    "assemblerInputs_mem = outputCols_OHE_mem + numericInputCols_mem\n",
    "assembler_mem = VectorAssembler(inputCols = assemblerInputs_mem, outputCol=\"features\")\n",
    "\n",
    "\n",
    "mem_pipeline_dt = Pipeline(stages = [inputIndexer_mem,encoder_mem,assembler_mem,scaler,dt])\n",
    "mem_pipeline_GBT = Pipeline(stages = [inputIndexer_mem,encoder_mem,assembler_mem,scaler,GBT])"
   ]
  },
  {
   "cell_type": "markdown",
   "metadata": {},
   "source": [
    "# 2.3 Training and evaluating models (35%)"
   ]
  },
  {
   "cell_type": "markdown",
   "metadata": {},
   "source": [
    "<p>1. For each use case, use the corresponding ML Pipeline from previous step to train the\n",
    "models on the rebalanced training data from 2.1.2<p>\n",
    "<p>○ Hint - each model training might take from 1min to 40min, depending on the\n",
    "complexity of the pipeline model, the amount of training data and the VM\n",
    "computing power<p>"
   ]
  },
  {
   "cell_type": "code",
   "execution_count": 18,
   "metadata": {},
   "outputs": [],
   "source": [
    "mem_dt_model = mem_pipeline_dt.fit(df_memory_train_selected)\n",
    "mem_GBT_model = mem_pipeline_GBT.fit(df_memory_train_selected)"
   ]
  },
  {
   "cell_type": "code",
   "execution_count": 19,
   "metadata": {},
   "outputs": [],
   "source": [
    "pro_dt_model = pro_pipeline_dt.fit(df_process_train_selected)\n",
    "pro_GBT_model = pro_pipeline_GBT.fit(df_process_train_selected)"
   ]
  },
  {
   "cell_type": "markdown",
   "metadata": {},
   "source": [
    "<p>2. For each use case, test the models on the testing data from 2.1.1 and display the<p>\n",
    "<p>count of each combination of attack label and prediction label in formats as below.<p>"
   ]
  },
  {
   "cell_type": "code",
   "execution_count": 20,
   "metadata": {},
   "outputs": [],
   "source": [
    "df_memory_test_selected = test_memory.select(col_selected_mem + [\"attack\"])\n",
    "df_process_test_selected = test_process.select(col_selected_pro + [\"attack\"])\n",
    "mem_pred_dt = mem_dt_model.transform(df_memory_test_selected)\n",
    "mem_pred_GBT = mem_GBT_model.transform(df_memory_test_selected)"
   ]
  },
  {
   "cell_type": "code",
   "execution_count": 21,
   "metadata": {},
   "outputs": [],
   "source": [
    "pro_pred_dt = pro_dt_model.transform(df_process_test_selected)\n",
    "pro_pred_GBT = pro_GBT_model.transform(df_process_test_selected)"
   ]
  },
  {
   "cell_type": "code",
   "execution_count": 22,
   "metadata": {
    "scrolled": true
   },
   "outputs": [
    {
     "name": "stdout",
     "output_type": "stream",
     "text": [
      "+------+----------+------+\n",
      "|attack|prediction| count|\n",
      "+------+----------+------+\n",
      "|     1|       0.0|  5610|\n",
      "|     0|       0.0|303791|\n",
      "|     1|       1.0| 52770|\n",
      "|     0|       1.0| 23192|\n",
      "+------+----------+------+\n",
      "\n"
     ]
    }
   ],
   "source": [
    "pro_pred_GBT.groupBy(\"attack\",\"prediction\").count().show()"
   ]
  },
  {
   "cell_type": "code",
   "execution_count": 23,
   "metadata": {
    "scrolled": true
   },
   "outputs": [
    {
     "name": "stdout",
     "output_type": "stream",
     "text": [
      "+------+----------+------+\n",
      "|attack|prediction| count|\n",
      "+------+----------+------+\n",
      "|     1|       0.0|  2399|\n",
      "|     0|       0.0|296127|\n",
      "|     1|       1.0| 55981|\n",
      "|     0|       1.0| 30856|\n",
      "+------+----------+------+\n",
      "\n"
     ]
    }
   ],
   "source": [
    "pro_pred_dt.groupBy(\"attack\",\"prediction\").count().show()"
   ]
  },
  {
   "cell_type": "code",
   "execution_count": 24,
   "metadata": {},
   "outputs": [
    {
     "name": "stdout",
     "output_type": "stream",
     "text": [
      "+------+----------+------+\n",
      "|attack|prediction| count|\n",
      "+------+----------+------+\n",
      "|     1|       0.0|  2272|\n",
      "|     0|       0.0|336321|\n",
      "|     1|       1.0| 38986|\n",
      "|     0|       1.0| 22278|\n",
      "+------+----------+------+\n",
      "\n"
     ]
    }
   ],
   "source": [
    "mem_pred_dt.groupBy(\"attack\",\"prediction\").count().show()"
   ]
  },
  {
   "cell_type": "code",
   "execution_count": 25,
   "metadata": {
    "scrolled": true
   },
   "outputs": [
    {
     "name": "stdout",
     "output_type": "stream",
     "text": [
      "+------+----------+------+\n",
      "|attack|prediction| count|\n",
      "+------+----------+------+\n",
      "|     1|       0.0|  2047|\n",
      "|     0|       0.0|337203|\n",
      "|     1|       1.0| 39211|\n",
      "|     0|       1.0| 21396|\n",
      "+------+----------+------+\n",
      "\n"
     ]
    }
   ],
   "source": [
    "mem_pred_GBT.groupBy(\"attack\",\"prediction\").count().show()"
   ]
  },
  {
   "cell_type": "markdown",
   "metadata": {},
   "source": [
    "<p>3. Compute the AUC, accuracy, recall and precision for the attack label from each<p>\n",
    "<p>model testing result using pyspark MLlib / ML APIs. Discuss which metric is more\n",
    "proper for measuring the model performance on identifying attacks.<p>"
   ]
  },
  {
   "cell_type": "code",
   "execution_count": 26,
   "metadata": {},
   "outputs": [],
   "source": [
    "from pyspark.ml.evaluation import BinaryClassificationEvaluator\n",
    "\n",
    "# Evaluate model\n",
    "evaluator = BinaryClassificationEvaluator(rawPredictionCol=\"rawPrediction\")\n",
    "\n",
    "def compute_metrics(predictions,dfName):\n",
    "    predictions = predictions.withColumnRenamed('attack','label')\n",
    "    TN = predictions.filter('prediction = 0 AND label = 0').count()\n",
    "    TP = predictions.filter('prediction = 1 AND label = 1').count()\n",
    "    FN = predictions.filter('prediction = 0 AND label = 1').count()\n",
    "    FP = predictions.filter('prediction = 0 AND label = 1').count()\n",
    "    auc = evaluator.evaluate(predictions)\n",
    "    # show confusion matrix\n",
    "    # calculate metrics by the confusion matrix\n",
    "    accuracy = (TP + TN) /(TP + TN + FP + FN)\n",
    "    precision = TP  /(TP + FP)\n",
    "    recall = TP  /(TP + FN)\n",
    "    print(f'for {dfName}, auc = {auc}, accuracy = {accuracy}, precision = {precision}, recall = {recall}')\n"
   ]
  },
  {
   "cell_type": "code",
   "execution_count": 27,
   "metadata": {},
   "outputs": [
    {
     "name": "stdout",
     "output_type": "stream",
     "text": [
      "for mem_pred_dt, auc = 0.9606652195740144, accuracy = 0.9880374146704892, precision = 0.9449318919967037, recall = 0.9449318919967037\n",
      "for mem_pred_GBT, auc = 0.9865115161827653, accuracy = 0.9892406992757051, precision = 0.9503853798051287, recall = 0.9503853798051287\n",
      "for pro_pred_dt, auc = 0.9452852488283581, accuracy = 0.9865566843930895, precision = 0.9589071599862967, recall = 0.9589071599862967\n",
      "for pro_pred_GBT, auc = 0.9791180541807211, accuracy = 0.9694927144142846, precision = 0.9039054470709147, recall = 0.9039054470709147\n"
     ]
    }
   ],
   "source": [
    "compute_metrics(mem_pred_dt,\"mem_pred_dt\")\n",
    "compute_metrics(mem_pred_GBT,\"mem_pred_GBT\")\n",
    "compute_metrics(pro_pred_dt,\"pro_pred_dt\")\n",
    "compute_metrics(pro_pred_GBT,\"pro_pred_GBT\")"
   ]
  },
  {
   "cell_type": "markdown",
   "metadata": {},
   "source": [
    "<p>4. Display the top-5 most important features in each model. Discuss which pipeline<p>\n",
    "<p>model is better, and whether the feature “ts” should be included in the model6. And\n",
    "visualise the ROC curve for the better model you selected for each use case.<p>"
   ]
  },
  {
   "cell_type": "markdown",
   "metadata": {},
   "source": [
    "<p>1. cal the importancefeature<p>"
   ]
  },
  {
   "cell_type": "code",
   "execution_count": 141,
   "metadata": {},
   "outputs": [],
   "source": [
    "# col_selected_mem \n",
    "# col_selected_pro \n",
    "def get_5_imp(model,cols,model_name):\n",
    "    imp_li = list(zip(cols,model.stages[-1].featureImportances))\n",
    "    imp_li.sort(key = lambda x : x[1], reverse = True)\n",
    "    print(f'for {model_name},5 most importance is:{imp_li[:5]} ' )"
   ]
  },
  {
   "cell_type": "code",
   "execution_count": 142,
   "metadata": {
    "scrolled": false
   },
   "outputs": [
    {
     "name": "stdout",
     "output_type": "stream",
     "text": [
      "for mem_dt_model,5 most importance is:[('ts', 0.0), ('MINFLT', 0.0), ('MAJFLT', 0.0), ('VSTEXT', 0.0), ('VSIZE', 0.0)] \n",
      "for mem_GBT_model,5 most importance is:[('VGROW', 0.010860276393285899), ('RGROW', 0.0034624071310414254), ('MINFLT', 0.0019084034104334983), ('RSIZE', 0.0006091105646163096), ('ts', 0.0002586749399485643)] \n",
      "for pro_dt_model,5 most importance is:[('NICE', 0.0009848580397613866), ('ts', 0.0), ('TSLPU', 0.0), ('POLI', 0.0), ('PRI', 0.0)] \n",
      "for pro_GBT_model,5 most importance is:[('NICE', 0.027402545855834858), ('PRI', 0.014430069904172884), ('EXC', 0.0008435718252139582), ('POLI', 0.000329081356292898), ('ts', 1.7633775712655442e-06)] \n"
     ]
    }
   ],
   "source": [
    "get_5_imp(mem_dt_model,col_selected_mem,\"mem_dt_model\")\n",
    "get_5_imp(mem_GBT_model,col_selected_mem,\"mem_GBT_model\")\n",
    "get_5_imp(pro_dt_model,col_selected_pro,\"pro_dt_model\")\n",
    "get_5_imp(pro_GBT_model,col_selected_pro,\"pro_GBT_model\")"
   ]
  },
  {
   "cell_type": "code",
   "execution_count": 61,
   "metadata": {},
   "outputs": [],
   "source": [
    "import pyspark.sql.functions as F\n",
    "import pyspark.sql.types as T\n",
    "import numpy as np\n",
    "import matplotlib.pyplot as plt\n",
    "to_array = F.udf(lambda v: v.toArray().tolist(), T.ArrayType(T.FloatType()))\n",
    "\n",
    "\n",
    "def roc(dtPredictions):\n",
    "    df = dtPredictions.withColumn('probability', to_array('probability'))\n",
    "    prob_df = df.select(df.probability[0].alias('negative_prob'),df.probability[1].alias('positive_prob'),'attack')\n",
    "    TPR = []\n",
    "    FPR = []\n",
    "    th = np.linspace(0, 1, 10)\n",
    "    for threshold in th:\n",
    "        prob_df = prob_df.withColumn('prediction',F.when(prob_df.positive_prob > threshold,1).otherwise(0))\n",
    "        TN = prob_df.filter('prediction = 0 AND attack = 0').count()\n",
    "        TP = prob_df.filter('prediction = 1 AND attack = 1').count()\n",
    "        FN = prob_df.filter('prediction = 0 AND attack = 1').count()\n",
    "        FP = prob_df.filter('prediction = 1 AND attack = 0').count()\n",
    "        tpr = TP/(TP+FN)\n",
    "        fpr = FP/(FP+TN)\n",
    "        TPR.append(tpr)\n",
    "        FPR.append(fpr)\n",
    "    return TPR, FPR\n",
    "\n",
    "def plot_auc(df,name):\n",
    "    TPR,FPR = roc(df)\n",
    "    plt.plot(FPR,TPR)\n",
    "    plt.xlabel(\"FPR\")\n",
    "    plt.xlabel(\"TPR\")\n",
    "    show = \"ROC CURVE for\" + name\n",
    "    plt.title(show)\n",
    "    plt.show()"
   ]
  },
  {
   "cell_type": "markdown",
   "metadata": {},
   "source": [
    "<strong>Discussion<strong>"
   ]
  },
  {
   "cell_type": "markdown",
   "metadata": {},
   "source": [
    "Pipeline selection"
   ]
  },
  {
   "cell_type": "markdown",
   "metadata": {},
   "source": [
    "<p>Result:<p>\n",
    "    <p>Memory: GBT<p>\n",
    "        <p>Process: GBT<p>\n",
    "<p>Reason:<p>\n",
    "    <p>Overall, for both datasets, the auc,accuracy,precision and recall of GBT is always higher than that of decision tree. This means that GBT has a better performance in both datasets<p>\n",
    "        <p>To be more specific, AUC represents the degree or measure of separability. It tells how much model is capable of distinguishing between classes. Higher the AUC, better the model is at predicting 0s as 0s and 1s as 1s. Therefore, as the data shows, GBT has a higher ability to distinguish the result correctly<p>\n",
    "            <p>Precision means how many true positive sample the positive result has, agian as the result shows, GBT has more correctly predicted samples in its positive results<p>\n",
    "                <p>Accuracy tells how many records that predicted is correct, not only the positive ones but also the negative ones. GBT also has a better accuracy in both datasets<p>\n",
    "                    <p>Recall means that out of all the positive classes, how much we predicted correctly. It should be high as possible.<p>"
   ]
  },
  {
   "cell_type": "markdown",
   "metadata": {},
   "source": [
    "\"ts\" Discussion"
   ]
  },
  {
   "cell_type": "markdown",
   "metadata": {},
   "source": [
    "<p>\"ts\" will be selected<p>\n",
    "    <p>Firstly, as shown in the top 5 most important feature listed above, \"ts\" is included in the result in both datasets when using the GBT algorith.<p>\n",
    "    <p>Besides, the timestamp of a process is meaningful and helpful for classify the label. For example, the attacking activity may concentrate on a fix period of time or fix period of days. If a process is running on the off-work time, then it is probably an attacking activity. Moreover, if the attacking activity concentrate on weekends, then the processes that have a timestamp on working days will probably be an unattacking activity.<p>\n",
    "  "
   ]
  },
  {
   "cell_type": "markdown",
   "metadata": {},
   "source": [
    "ROC"
   ]
  },
  {
   "cell_type": "code",
   "execution_count": 62,
   "metadata": {},
   "outputs": [
    {
     "data": {
      "image/png": "[encoded data removed]",
      "text/plain": [
       "<Figure size 432x288 with 1 Axes>"
      ]
     },
     "metadata": {
      "needs_background": "light"
     },
     "output_type": "display_data"
    },
    {
     "data": {
      "image/png": "[encoded data removed]",
      "text/plain": [
       "<Figure size 432x288 with 1 Axes>"
      ]
     },
     "metadata": {
      "needs_background": "light"
     },
     "output_type": "display_data"
    }
   ],
   "source": [
    "plot_auc(mem_pred_GBT,\"memory\")\n",
    "plot_auc(pro_pred_GBT,\"process\")"
   ]
  },
  {
   "cell_type": "markdown",
   "metadata": {},
   "source": [
    "<p>5. Using the pipeline model you selected in the previous step, re-train the pipeline\n",
    "model using a bigger set of rebalanced training data, with attack events and\n",
    "non-attack events being 1:2 ratio, while using all attack events data from the full data\n",
    "for both use cases. Then persist the better models for each use case.<p>\n",
    "<p>○ The models would be deployed in Part B of the assignment 2.<p>"
   ]
  },
  {
   "cell_type": "code",
   "execution_count": 40,
   "metadata": {},
   "outputs": [],
   "source": [
    "df_memory_resampled_train_1 = resample(train_memory,2,\"attack\",1)\n",
    "df_process_resampled_train_1 = resample(train_process,2,\"attack\",1)"
   ]
  },
  {
   "cell_type": "code",
   "execution_count": 41,
   "metadata": {},
   "outputs": [],
   "source": [
    "pro_GBT_model_final = pro_pipeline_GBT.fit(df_process_resampled_train_1)\n",
    "mem_GBT_model_final = mem_pipeline_GBT.fit(df_memory_resampled_train_1)"
   ]
  },
  {
   "cell_type": "code",
   "execution_count": 42,
   "metadata": {},
   "outputs": [],
   "source": [
    "pro_GBT_model_final.save('pro_GBT_model_final')\n",
    "mem_GBT_model_final.save('mem_GBT_model_final')"
   ]
  },
  {
   "cell_type": "markdown",
   "metadata": {},
   "source": [
    "# 3. Knowledge sharing (10%)"
   ]
  },
  {
   "cell_type": "markdown",
   "metadata": {},
   "source": [
    "<p>3.1 How many jobs are observed when training the KMeans clustering model following the\n",
    "code below? Provide a screenshot from Spark UI for running a simple KMeans model\n",
    "training. (0.5%)<p>\n",
    "<p>● For example, run the following code,<p>"
   ]
  },
  {
   "cell_type": "code",
   "execution_count": 52,
   "metadata": {},
   "outputs": [],
   "source": [
    "from pyspark.ml.clustering import KMeans\n",
    "iris_df = spark.createDataFrame([\n",
    "(4.7, 3.2, 1.3, 0.2),\n",
    "(4.9, 3.1, 1.5, 0.1),\n",
    "(5.4, 3.9, 1.3, 0.4),\n",
    "(5.0, 3.4, 1.6, 0.4),\n",
    "(5.1, 3.8, 1.6, 0.2),\n",
    "(4.9, 2.4, 3.3, 1.0),\n",
    "(6.6, 2.9, 4.6, 1.3),\n",
    "(5.6, 3.0, 4.5, 1.5),\n",
    "(5.7, 2.6, 3.5, 1.0),\n",
    "(5.8, 2.6, 4.0, 1.2),\n",
    "(5.8, 2.8, 5.1, 2.4),\n",
    "(6.2, 2.8, 4.8, 1.8),\n",
    "(6.0, 3.0, 4.8, 1.8),\n",
    "(6.7, 3.1, 5.6, 2.4),\n",
    "(6.7, 3.0, 5.2, 2.3),\n",
    "(6.2, 3.4, 5.4, 2.3)],\n",
    "['sepal_length', 'sepal_width', 'petal_length', 'petal_width'])\n",
    "assembler = VectorAssembler(\n",
    "inputCols=['sepal_length', 'sepal_width', 'petal_length', 'petal_width'],\n",
    "outputCol='features')\n",
    "kmeans = KMeans(k=3).fit(assembler.transform(iris_df))"
   ]
  },
  {
   "cell_type": "markdown",
   "metadata": {},
   "source": [
    "<p>3.2 Combining the KMeans algorithm from the lecture, explain what each job in Spark UI\n",
    "represents (9.5%)<p>\n",
    "<p>● 300 words max for the discussion<p>"
   ]
  },
  {
   "attachments": {
    "image.png": {
     "image/png": "[encoded data removed]"
    }
   },
   "cell_type": "markdown",
   "metadata": {},
   "source": [
    "![image.png](attachment:image.png)"
   ]
  },
  {
   "cell_type": "markdown",
   "metadata": {},
   "source": [
    "<strong>Explaination:<strong>"
   ]
  },
  {
   "cell_type": "markdown",
   "metadata": {},
   "source": [
    "<p>Overall, KMeans algorithm clustering the data by calculating the distance between points and centroids, and the nearest distance makes a point be classed as a number of that centroid. After the first time cluster wich random takes the cenroids, the second iterate will calculate the mean value for all classes and take it as the new centroid, the number of centroids remains the same. Iterating this process untial the classes keeped unchange<p>\n",
    "    <p>The jobs shown in the picture is the process of iteration for calculating the centroids, distance and clustering according to the distance.<p>\n"
   ]
  },
  {
   "cell_type": "markdown",
   "metadata": {},
   "source": [
    "<p>Firstly, the dataset will be partitioned to each partitioners, then the partitioners will do the kmeans and clustering the data on its own data. For example, C1 and C2 are two cpus, after getting the data, C1 will have three classes when the first time iterate complete, C2 has as well. Apart from the classes, C1 C2 also has their own data info, i.e. the sum of each member in each clusters and the count of members in each clusters as well.<p>\n",
    "    <p>Next, C1 C2 will share their data info by broadcasting it to each other to calculate the new centroid for each cluster. E.g. C1 and C2's cluster 1 have the sum for 10 and 20 respectively, 3 members and 6 members respectively. Then the new mean would be 10+20 / 3 + 6<p>\n",
    "        <p>When the clusters is stabled, the iterate will finish and the final clusters will be created by collecting all the partitioners and union the individual results <p>"
   ]
  },
  {
   "cell_type": "markdown",
   "metadata": {},
   "source": [
    "<p>job 778 & 779:<p>\n",
    "    <p>take samples from dataset to do the KMeans clustering and partition the data to partitioners<p>"
   ]
  },
  {
   "cell_type": "markdown",
   "metadata": {},
   "source": [
    "<p>job 780&781<p>"
   ]
  },
  {
   "cell_type": "markdown",
   "metadata": {},
   "source": [
    "calculate the data in each partitioners for centroid and the distance between centroid and points, also compare the distance of each centoids and points to find the smallest one to determint the class.Then collect the data from each partitions"
   ]
  },
  {
   "cell_type": "markdown",
   "metadata": {},
   "source": [
    "job 782&783"
   ]
  },
  {
   "cell_type": "markdown",
   "metadata": {},
   "source": [
    "repeat above to iterate"
   ]
  },
  {
   "cell_type": "markdown",
   "metadata": {},
   "source": [
    "job784"
   ]
  },
  {
   "cell_type": "markdown",
   "metadata": {},
   "source": [
    "count the number of each values in the map"
   ]
  },
  {
   "cell_type": "markdown",
   "metadata": {},
   "source": [
    "job 785-787"
   ]
  },
  {
   "cell_type": "markdown",
   "metadata": {},
   "source": [
    "collect the data from each partition when the iteration is over after the clusters members doesn't change anynore"
   ]
  },
  {
   "cell_type": "markdown",
   "metadata": {},
   "source": [
    "job 788"
   ]
  },
  {
   "cell_type": "markdown",
   "metadata": {},
   "source": [
    "generate the summary info"
   ]
  }
 ],
 "metadata": {
  "kernelspec": {
   "display_name": "Python 3",
   "language": "python",
   "name": "python3"
  },
  "language_info": {
   "codemirror_mode": {
    "name": "ipython",
    "version": 3
   },
   "file_extension": ".py",
   "mimetype": "text/x-python",
   "name": "python",
   "nbconvert_exporter": "python",
   "pygments_lexer": "ipython3",
   "version": "3.8.2"
  }
 },
 "nbformat": 4,
 "nbformat_minor": 4
}
