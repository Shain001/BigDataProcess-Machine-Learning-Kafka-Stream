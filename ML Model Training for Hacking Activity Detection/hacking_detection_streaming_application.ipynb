{
 "cells": [
  {
   "cell_type": "markdown",
   "metadata": {},
   "source": [
    "# 3. Streaming application using Spark Structured Streaming (60%)\n"
   ]
  },
  {
   "cell_type": "markdown",
   "metadata": {},
   "source": [
    "<p>In this task, we will implement Spark Structured Streaming to consume the data from task 1\n",
    "and perform predictive analytics.<p>\n",
    "<strong>Important :\n",
    "- In this task, use Spark Structured Streaming together with Spark SQL and ML\n",
    "- You are also provided with a set of pre-trained pipeline models, one for\n",
    "predicting attack in process data, another for predicting attack in memory data<strong>\n",
    "<p>Write a python program that achieves the following requirements. Save the file as\n",
    "Assignment-2B-Task3_streaming_application. ipynb .<p>"
   ]
  },
  {
   "cell_type": "markdown",
   "metadata": {},
   "source": [
    "1. SparkSession is created using a SparkConf object, which would use two local cores\n",
    "with a proper application name, and use UTC as the timezone 3 (4%)"
   ]
  },
  {
   "cell_type": "code",
   "execution_count": 1,
   "metadata": {},
   "outputs": [],
   "source": [
    "import os\n",
    "os.environ['PYSPARK_SUBMIT_ARGS'] = '--packages org.apache.spark:spark-streaming-kafka-0-10_2.12:3.0.0,org.apache.spark:spark-sql-kafka-0-10_2.12:3.0.0 pyspark-shell'\n",
    "from pyspark import SparkConf\n",
    "from pyspark.sql import SparkSession\n",
    "from pyspark.sql.functions import col, decode, expr\n",
    "\n",
    "conf = SparkConf().setAppName(\"FIT5020-Assignment2B\").setMaster(\"local[2]\")\n",
    "spark = SparkSession.builder.config(conf = conf).getOrCreate()"
   ]
  },
  {
   "cell_type": "markdown",
   "metadata": {},
   "source": [
    "2. From the Kafka producers in Task 1.1 and 1.2, ingest the streaming data into Spark\n",
    "Streaming for both process and memory activities(3%)"
   ]
  },
  {
   "cell_type": "code",
   "execution_count": 2,
   "metadata": {},
   "outputs": [],
   "source": [
    "topic_memory = \"ass_2b_memory\"\n",
    "df_memory = spark \\\n",
    "    .readStream \\\n",
    "    .format(\"kafka\") \\\n",
    "    .option(\"kafka.bootstrap.servers\", \"127.0.0.1:9092\") \\\n",
    "    .option(\"subscribe\", topic_memory) \\\n",
    "    .load()"
   ]
  },
  {
   "cell_type": "code",
   "execution_count": 3,
   "metadata": {},
   "outputs": [],
   "source": [
    "topic_process = \"ass_2B_process\"\n",
    "df_process = spark \\\n",
    "    .readStream \\\n",
    "    .format(\"kafka\") \\\n",
    "    .option(\"kafka.bootstrap.servers\", \"127.0.0.1:9092\") \\\n",
    "    .option(\"subscribe\", topic_process) \\\n",
    "    .load()"
   ]
  },
  {
   "cell_type": "code",
   "execution_count": 4,
   "metadata": {},
   "outputs": [],
   "source": [
    "df_memory = df_memory.selectExpr(\"CAST(value AS STRING)\")\n"
   ]
  },
  {
   "cell_type": "code",
   "execution_count": 5,
   "metadata": {},
   "outputs": [],
   "source": [
    "df_process = df_process.selectExpr(\"CAST(value AS STRING)\")"
   ]
  },
  {
   "cell_type": "code",
   "execution_count": 6,
   "metadata": {},
   "outputs": [],
   "source": [
    "from pyspark.sql import functions as F\n",
    "from pyspark.sql.types import *\n",
    "# # format the schema\n",
    "# # {'sequence': 17, 'machine': 8, 'PID': 1439, 'MINFLT': 387, 'MAJFLT': 0, 'VSTEXT': 15, 'VSIZE': 9416.0, 'RSIZE': 472.0,\n",
    "# #  'VGROW': 9416.0, 'RGROW': 472.0, 'MEM': 0.0, 'CMD': 'log', 'ts': 1603809685}\n",
    "\n",
    "#{'sequence': 1, 'machine': 4, 'PID': 1442, 'TRUN': 0, 'TSLPI': 1, 'TSLPU': 0, 'POLI': 'norm', 'NICE': 0, 'PRI': 120, \n",
    "#'RTPR': 0, 'CPUNR': 0, 'Status': '-', 'EXC': 0, 'State': 'S', 'CPU': 0.0, 'CMD': 'Xorg', 'ts': 1603821766}\n",
    "# # define the shcema\n",
    "schema_memory = StructType([    \n",
    "    StructField('sequence', IntegerType(), True), \n",
    "    StructField('machine', IntegerType(), True),\n",
    "    StructField('PID', IntegerType(), True),     \n",
    "    StructField('MINFLT', StringType(), True), \n",
    "    StructField('MAJFLT', StringType(), True),\n",
    "    StructField('VSTEXT', StringType(), True),\n",
    "    StructField('VSIZE', DoubleType(), True), \n",
    "    StructField('RSIZE', StringType(), True),\n",
    "    StructField('VGROW', StringType(), True),\n",
    "    StructField('RGROW', StringType(), True),\n",
    "    StructField('MEM', DoubleType(), True), \n",
    "    StructField('CMD', StringType(), True),\n",
    "    StructField('ts', TimestampType(), True)\n",
    "])\n",
    "\n",
    "\n",
    "schema_process = StructType([    \n",
    "    StructField('sequence', IntegerType(), True), \n",
    "    StructField('machine', IntegerType(), True),\n",
    "    StructField('PID', IntegerType(), True),     \n",
    "    StructField('TRUN', IntegerType(), True), \n",
    "    StructField('TSLPI', IntegerType(), True),\n",
    "    StructField('TSLPU', IntegerType(), True),\n",
    "    StructField('POLI', StringType(), True), \n",
    "    StructField('NICE', IntegerType(), True),\n",
    "    StructField('PRI', IntegerType(), True),\n",
    "    StructField('RTPR', IntegerType(), True),\n",
    "    StructField('CPUNR', IntegerType(), True),\n",
    "    StructField('Status', StringType(), True), \n",
    "    StructField('EXC', IntegerType(), True),\n",
    "    StructField('State', StringType(), True),\n",
    "    StructField('CPU', DoubleType(), True), \n",
    "    StructField('CMD', StringType(), True),\n",
    "    StructField('ts', TimestampType(), True)\n",
    "])\n",
    "\n"
   ]
  },
  {
   "cell_type": "code",
   "execution_count": 7,
   "metadata": {},
   "outputs": [],
   "source": [
    "df_memory = df_memory.withColumn(\"value\",F.explode(F.from_json(\"value\",ArrayType(schema_memory))))"
   ]
  },
  {
   "cell_type": "code",
   "execution_count": 8,
   "metadata": {},
   "outputs": [],
   "source": [
    "df_process = df_process.withColumn(\"value\",F.explode(F.from_json(\"value\",ArrayType(schema_process))))"
   ]
  },
  {
   "cell_type": "code",
   "execution_count": 9,
   "metadata": {},
   "outputs": [],
   "source": [
    "df_memory = df_memory.select(\n",
    "                    F.col(\"value.sequence\").alias(\"sequence\"),\n",
    "                    F.col(\"value.machine\").alias(\"machine\"),\n",
    "                    F.col(\"value.PID\").alias(\"PID\"),\n",
    "                    F.col(\"value.MINFLT\").alias(\"MINFLT\"),\n",
    "                    F.col(\"value.MAJFLT\").alias(\"MAJFLT\"),\n",
    "                    F.col(\"value.VSTEXT\").alias(\"VSTEXT\"),\n",
    "                    F.col(\"value.RSIZE\").alias(\"RSIZE\"),\n",
    "                    F.col(\"value.VSIZE\").alias(\"VSIZE\"),\n",
    "                    F.col(\"value.VGROW\").alias(\"VGROW\"),\n",
    "                    F.col(\"value.RGROW\").alias(\"RGROW\"),\n",
    "                    F.col(\"value.MEM\").alias(\"MEM\"),\n",
    "                    F.col(\"value.CMD\").alias(\"CMD\"),\n",
    "                    F.col(\"value.ts\").alias(\"ts\")\n",
    "                )"
   ]
  },
  {
   "cell_type": "code",
   "execution_count": 10,
   "metadata": {},
   "outputs": [],
   "source": [
    "df_process = df_process.select(\n",
    "                    F.col(\"value.sequence\").alias(\"sequence\"),\n",
    "                    F.col(\"value.machine\").alias(\"machine\"),\n",
    "                    F.col(\"value.PID\").alias(\"PID\"),\n",
    "                    F.col(\"value.TRUN\").alias(\"TRUN\"),\n",
    "                    F.col(\"value.TSLPI\").alias(\"TSLPI\"),\n",
    "                    F.col(\"value.TSLPU\").alias(\"TSLPU\"),\n",
    "                    F.col(\"value.POLI\").alias(\"POLI\"),\n",
    "                    F.col(\"value.NICE\").alias(\"NICE\"),\n",
    "                    F.col(\"value.PRI\").alias(\"PRI\"),\n",
    "                    F.col(\"value.RTPR\").alias(\"RTPR\"),\n",
    "                    F.col(\"value.CPUNR\").alias(\"CPUNR\"),\n",
    "                    F.col(\"value.Status\").alias(\"Status\"),\n",
    "                    F.col(\"value.EXC\").alias(\"EXC\"),\n",
    "                    F.col(\"value.State\").alias(\"State\"),\n",
    "                    F.col(\"value.CPU\").alias(\"CPU\"),\n",
    "                    F.col(\"value.CMD\").alias(\"CMD\"),\n",
    "                    F.col(\"value.ts\").alias(\"ts\")\n",
    "                )"
   ]
  },
  {
   "cell_type": "markdown",
   "metadata": {},
   "source": [
    "3. Then the streaming data format should be transformed into the proper formats\n",
    "following the metadata file schema for both process and memory, similar to\n",
    "assignment 2A 4 (3%)"
   ]
  },
  {
   "cell_type": "markdown",
   "metadata": {},
   "source": [
    "- The numeric values with extra spaces or “K” / “M” / “G” should be properly\n",
    "transformed into their correct values\n",
    "- The NICE value should also be restored based on the PRI values using their\n",
    "relationship 5\n",
    "- Hint - There is a mapping between PRI (priority) and NICE, as long as\n",
    "the process is not yet finished during the last interval. For example,\n",
    "- PRI 100 maps to NICE -20\n",
    "- PRI 101 maps toNICE -19\n",
    "- …\n",
    "- PRI 139 maps to NICE 19\n",
    "- Hint - If the process is finished, PRI and NICE would both be 0."
   ]
  },
  {
   "cell_type": "code",
   "execution_count": 11,
   "metadata": {},
   "outputs": [],
   "source": [
    "# calculating the value of alpha\n",
    "# for column in [\"MINFLT\",\"MAJFLT\",\"VSTEXT\",\"RSIZE\",\"RGROW\"]:\n",
    "#     df_memory.select(column).filter(col(column).contains(\"M\") | col(column).contains(\"K\") | col(column).contains(\"G\")).show()\n",
    "    \n",
    "def cal_alpha(row):\n",
    "    if 'K' in row:\n",
    "        row = str(float(row[:-1]) * 1000)\n",
    "    elif 'M' in row:\n",
    "        row = str(float(row[:-1]) * 1000000)\n",
    "    elif 'G' in row:\n",
    "        row = str(float(row[:-1]) * 1000000000)\n",
    "    return row\n",
    "\n",
    "cal_alpha = F.udf(cal_alpha,StringType())\n",
    "\n",
    "for column in [\"MINFLT\",\"MAJFLT\",\"VSTEXT\",\"RSIZE\",\"RGROW\"]:\n",
    "    df_memory = df_memory.withColumn(column,cal_alpha(df_memory[column]))\n",
    "    df_memory = df_memory.withColumn(column, df_memory[column].cast(DoubleType()))"
   ]
  },
  {
   "cell_type": "code",
   "execution_count": 12,
   "metadata": {},
   "outputs": [],
   "source": [
    "# #handling unformated data in VGROW\n",
    "# from pyspark.sql.functions import *\n",
    "\n",
    "# # removing spaces in column \"VGROW\"  and convert it's datatype first\n",
    "# df_memory = df_memory.withColumn(\"VGROW\", regexp_replace(df_memory[\"VGROW\"], \" \", \"\"))\n",
    "# df_memory = df_memory.withColumn(\"VGROW\", df_memory[\"VGROW\"].cast(DoubleType()))\n",
    "# df_memory.select(\"VGROW\").filter(col(\"VGROW\").contains(\" \")).show()\n",
    "\n",
    "def remove_space(row):\n",
    "    if \" \" in row:\n",
    "        row = row.replace(\" \",\"\")\n",
    "    return row\n",
    "\n",
    "remove_space = F.udf(remove_space,StringType())\n",
    "df_memory = df_memory.withColumn(\"VGROW\",cal_alpha(df_memory[\"VGROW\"]))\n",
    "df_memory = df_memory.withColumn(\"VGROW\",remove_space(df_memory[\"VGROW\"]))\n",
    "df_memory = df_memory.withColumn(\"VGROW\",df_memory[\"VGROW\"].cast(DoubleType()))"
   ]
  },
  {
   "cell_type": "code",
   "execution_count": 13,
   "metadata": {},
   "outputs": [],
   "source": [
    "# restore NICE\n",
    "def cal_nice(pri,nice):\n",
    "    if pri == 0 and nice == 0:\n",
    "        return nice\n",
    "    else:\n",
    "        nice = pri - 120\n",
    "        return nice\n",
    "\n",
    "cal_nice = F.udf(cal_nice,IntegerType())\n",
    "df_process = df_process.withColumn(\"NICE\",cal_nice(F.col(\"PRI\"),F.col(\"NICE\")))"
   ]
  },
  {
   "cell_type": "markdown",
   "metadata": {},
   "source": [
    "4. For process and memory, respectively, create a new column “CMD_PID”\n",
    "concatenating “CMD” and “PID” columns, and a new column “event_time” as\n",
    "timestamp format based on the unix time in “ts” column (5%)\n",
    " - Allow 20-second tolerance for possible data delay on “event_time” using\n",
    "watermarking"
   ]
  },
  {
   "cell_type": "markdown",
   "metadata": {},
   "source": [
    "Q: This event_time value is local time or the time in ts column?"
   ]
  },
  {
   "cell_type": "code",
   "execution_count": 14,
   "metadata": {},
   "outputs": [],
   "source": [
    "df_memory = df_memory.withColumn(\"CMD_PID\",F.concat(F.col(\"CMD\"),F.col(\"PID\")))"
   ]
  },
  {
   "cell_type": "code",
   "execution_count": 15,
   "metadata": {},
   "outputs": [],
   "source": [
    "df_memory = df_memory.withColumn(\"event_time\",F.col(\"ts\").cast(TimestampType()))"
   ]
  },
  {
   "cell_type": "code",
   "execution_count": 16,
   "metadata": {},
   "outputs": [],
   "source": [
    "df_process = df_process.withColumn(\"CMD_PID\",F.concat(F.col(\"CMD\"),F.col(\"PID\")))\n",
    "df_process = df_process.withColumn(\"event_time\",F.col(\"ts\").cast(TimestampType()))"
   ]
  },
  {
   "cell_type": "markdown",
   "metadata": {},
   "source": [
    "5. Persist the transformed streaming data in parquet format for both process and\n",
    "memory (5%)\n",
    " - The process data should be stored in “process.parquet” in the same folder of\n",
    "your notebook, and the memory data should be stored in “memory.parquet” in\n",
    "the same folder of your notebook"
   ]
  },
  {
   "cell_type": "code",
   "execution_count": 17,
   "metadata": {},
   "outputs": [],
   "source": [
    "query_memory_sink = df_memory.writeStream.format(\"parquet\")\\\n",
    "        .outputMode(\"append\")\\\n",
    "        .option(\"path\", \"memory.parquet\")\\\n",
    "        .option(\"checkpointLocation\", \"memory.parquet/checkpoint\")\\\n",
    "        .start()"
   ]
  },
  {
   "cell_type": "code",
   "execution_count": 18,
   "metadata": {},
   "outputs": [],
   "source": [
    "query_memory_sink.stop()"
   ]
  },
  {
   "cell_type": "code",
   "execution_count": 19,
   "metadata": {},
   "outputs": [],
   "source": [
    "query_process_sink = df_process.writeStream.format(\"parquet\")\\\n",
    "        .outputMode(\"append\")\\\n",
    "        .option(\"path\", \"process.parquet\")\\\n",
    "        .option(\"checkpointLocation\", \"process.parquet/checkpoint\")\\\n",
    "        .start()"
   ]
  },
  {
   "cell_type": "code",
   "execution_count": 20,
   "metadata": {},
   "outputs": [],
   "source": [
    "query_process_sink.stop()"
   ]
  },
  {
   "cell_type": "markdown",
   "metadata": {},
   "source": [
    "6. Load the machine learning models given 6 , and use the models to predict whether\n",
    "each process or memory streaming record is an attack event, respectively (5%)"
   ]
  },
  {
   "cell_type": "code",
   "execution_count": 17,
   "metadata": {},
   "outputs": [],
   "source": [
    "from pyspark.ml import PipelineModel\n",
    "memory_model = PipelineModel.load('models/memory_pipeline_model')\n",
    "process_model = PipelineModel.load('models/process_pipeline_model')"
   ]
  },
  {
   "cell_type": "code",
   "execution_count": 18,
   "metadata": {},
   "outputs": [],
   "source": [
    "df_memory_predict = memory_model.transform(df_memory)"
   ]
  },
  {
   "cell_type": "code",
   "execution_count": 19,
   "metadata": {},
   "outputs": [],
   "source": [
    "df_process_predict = process_model.transform(df_process)"
   ]
  },
  {
   "cell_type": "markdown",
   "metadata": {},
   "source": [
    "7. Using the prediction result, and monitor the data following the requirements below\n",
    "(30%)"
   ]
  },
  {
   "cell_type": "markdown",
   "metadata": {},
   "source": [
    "7.a "
   ]
  },
  {
   "cell_type": "markdown",
   "metadata": {},
   "source": [
    "QA: watermark add here? from the 3.4 requirement"
   ]
  },
  {
   "cell_type": "code",
   "execution_count": 20,
   "metadata": {},
   "outputs": [],
   "source": [
    "from pyspark.sql.functions import *\n",
    "q1_memory_count = df_memory_predict\\\n",
    "    .filter(col(\"prediction\") == 1.0)\\\n",
    "    .withWatermark(\"event_time\", \"20 seconds\") \\\n",
    "    .groupBy(window(df_memory_predict.event_time,\"120 seconds\"), \"machine\")\\\n",
    "    .agg(approx_count_distinct(col(\"CMD_PID\")).alias(\"count\"))\\\n",
    "    .select(\"machine\",\"window.start\",\"window.end\",\"count\")"
   ]
  },
  {
   "cell_type": "code",
   "execution_count": 25,
   "metadata": {},
   "outputs": [],
   "source": [
    "query_q1_memory_count = q1_memory_count \\\n",
    "    .writeStream \\\n",
    "    .outputMode(\"complete\")\\\n",
    "    .format(\"console\") \\\n",
    "    .trigger(processingTime='10 seconds') \\\n",
    "    .start()"
   ]
  },
  {
   "cell_type": "code",
   "execution_count": 29,
   "metadata": {},
   "outputs": [],
   "source": [
    "query_q1_memory_count.stop()"
   ]
  },
  {
   "attachments": {
    "image.png": {
     "image/png": "[encoded data removed]"
    }
   },
   "cell_type": "markdown",
   "metadata": {},
   "source": [
    "![image.png](attachment:image.png)"
   ]
  },
  {
   "cell_type": "code",
   "execution_count": 21,
   "metadata": {},
   "outputs": [],
   "source": [
    "query_7a_memory = q1_memory_count \\\n",
    "    .writeStream \\\n",
    "    .outputMode(\"complete\")\\\n",
    "    .format(\"memory\") \\\n",
    "    .queryName(\"memory_7a\")\\\n",
    "    .trigger(processingTime='10 seconds') \\\n",
    "    .start()"
   ]
  },
  {
   "cell_type": "code",
   "execution_count": 78,
   "metadata": {},
   "outputs": [],
   "source": [
    "query_7a_memory.stop()"
   ]
  },
  {
   "cell_type": "code",
   "execution_count": 22,
   "metadata": {},
   "outputs": [],
   "source": [
    "q1_process_count = df_process_predict\\\n",
    "    .filter(col(\"prediction\") == 1.0)\\\n",
    "    .withWatermark(\"event_time\", \"20 seconds\") \\\n",
    "    .groupBy(window(df_process_predict.event_time,\"120 seconds\"), \"machine\")\\\n",
    "    .agg(approx_count_distinct(col(\"CMD_PID\")).alias(\"count\"))\\\n",
    "    .select(\"machine\",\"window.start\",\"window.end\",\"count\")"
   ]
  },
  {
   "cell_type": "code",
   "execution_count": 26,
   "metadata": {},
   "outputs": [],
   "source": [
    "query_7a_pro = q1_process_count \\\n",
    "    .writeStream \\\n",
    "    .outputMode(\"complete\")\\\n",
    "    .format(\"memory\") \\\n",
    "    .queryName(\"process_7a\")\\\n",
    "    .trigger(processingTime='10 seconds') \\\n",
    "    .start()"
   ]
  },
  {
   "cell_type": "code",
   "execution_count": 84,
   "metadata": {},
   "outputs": [],
   "source": [
    "query_7a_pro.stop()"
   ]
  },
  {
   "cell_type": "code",
   "execution_count": 28,
   "metadata": {},
   "outputs": [],
   "source": [
    "query_q1_process_count = q1_process_count \\\n",
    "    .writeStream \\\n",
    "    .outputMode(\"complete\")\\\n",
    "    .format(\"console\") \\\n",
    "    .trigger(processingTime='10 seconds') \\\n",
    "    .start()"
   ]
  },
  {
   "attachments": {
    "image.png": {
     "image/png": "[encoded data removed]"
    }
   },
   "cell_type": "markdown",
   "metadata": {},
   "source": [
    "![image.png](attachment:image.png)"
   ]
  },
  {
   "cell_type": "code",
   "execution_count": 86,
   "metadata": {},
   "outputs": [],
   "source": [
    "query_q1_memory_count.stop()"
   ]
  },
  {
   "cell_type": "markdown",
   "metadata": {},
   "source": [
    "7.b"
   ]
  },
  {
   "cell_type": "code",
   "execution_count": 38,
   "metadata": {},
   "outputs": [],
   "source": [
    "import datetime\n",
    "from pyspark.sql.functions import *\n",
    "df_process_temp = df_process_predict.filter(col(\"prediction\") == 1.0)\n",
    "df_memory_temp = df_memory_predict.filter(col(\"prediction\") == 1.0)\n",
    "df_joined = df_process_temp.join(df_memory_temp,df_process_temp.machine == df_memory_temp.machine,\"inner\").filter(df_process_temp.CMD_PID == df_memory_temp.CMD_PID).filter(((unix_timestamp(df_process_temp.event_time) - unix_timestamp(df_memory_temp.event_time)) > 30) | ((unix_timestamp(df_process_temp.event_time) - unix_timestamp(df_memory_temp.event_time)) < 30))\n",
    "\n"
   ]
  },
  {
   "cell_type": "code",
   "execution_count": 24,
   "metadata": {},
   "outputs": [],
   "source": [
    "temp = df_joined.withColumn(\"processing_time\", unix_timestamp().cast(TimestampType()))"
   ]
  },
  {
   "cell_type": "code",
   "execution_count": 31,
   "metadata": {},
   "outputs": [],
   "source": [
    "\n",
    "final = temp.select('TRUN','TSLPI','TSLPU','POLI','NICE','PRI','RTPR','CPUNR','Status','EXC','State',df_process_temp['machine'],df_process_temp['PID'],'TRUN','TRUN','TSLPI','TSLPU','POLI','NICE','PRI','RTPR','CPUNR','Status','EXC','State','CPU',df_process_temp['CMD'],df_process_temp['event_time'])"
   ]
  },
  {
   "cell_type": "code",
   "execution_count": 32,
   "metadata": {},
   "outputs": [],
   "source": [
    "query_q2_sink = final.writeStream.format(\"parquet\")\\\n",
    "        .outputMode(\"append\")\\\n",
    "        .option(\"path\", \"process_memory_attack.parquet\")\\\n",
    "        .option(\"checkpointLocation\", \"process_memory_attack.parquet/checkpoint\")\\\n",
    "        .start()"
   ]
  },
  {
   "cell_type": "code",
   "execution_count": 33,
   "metadata": {},
   "outputs": [],
   "source": [
    "query_q2_sink.stop()"
   ]
  },
  {
   "cell_type": "markdown",
   "metadata": {},
   "source": [
    "8. Visualise the data in line charts for step 7a (5%)"
   ]
  },
  {
   "cell_type": "markdown",
   "metadata": {},
   "source": [
    "- For the count of suspect attacks for each machine in step 7a, use Spark SQL\n",
    "to query the data from Spark Memory sink, and prepare a line chart plot for\n",
    "showing the count of suspect attacks for each machine at each 2-min window\n",
    "from the start to the most recent, and refresh the plot every 10 minutes\n",
    "- Hint - x-axis can be used to represent the timeline, while y-axis can be\n",
    "used to represent the count; each machine’s line data can be\n",
    "represented in different color legends"
   ]
  },
  {
   "cell_type": "code",
   "execution_count": 40,
   "metadata": {},
   "outputs": [
    {
     "name": "stdout",
     "output_type": "stream",
     "text": [
      "+-------+-------------------+-------------------+-----+\n",
      "|machine|              start|                end|count|\n",
      "+-------+-------------------+-------------------+-----+\n",
      "|      8|2020-10-30 12:28:00|2020-10-30 12:30:00|   74|\n",
      "|      8|2020-10-30 12:26:00|2020-10-30 12:28:00|   54|\n",
      "|      7|2020-10-30 12:28:00|2020-10-30 12:30:00|   67|\n",
      "|      8|2020-10-30 12:30:00|2020-10-30 12:32:00|   49|\n",
      "|      6|2020-10-30 12:28:00|2020-10-30 12:30:00|    1|\n",
      "|      5|2020-10-30 12:26:00|2020-10-30 12:28:00|   88|\n",
      "|      7|2020-10-30 12:30:00|2020-10-30 12:32:00|   49|\n",
      "|      5|2020-10-30 12:28:00|2020-10-30 12:30:00|  185|\n",
      "|      7|2020-10-30 12:26:00|2020-10-30 12:28:00|   59|\n",
      "|      5|2020-10-30 12:30:00|2020-10-30 12:32:00|  153|\n",
      "|      6|2020-10-30 12:26:00|2020-10-30 12:28:00|    1|\n",
      "|      6|2020-10-30 12:30:00|2020-10-30 12:32:00|    1|\n",
      "+-------+-------------------+-------------------+-----+\n",
      "\n",
      "None\n"
     ]
    }
   ],
   "source": [
    "print(spark.sql(\"select * from process_7a\").show())"
   ]
  },
  {
   "cell_type": "code",
   "execution_count": 41,
   "metadata": {},
   "outputs": [],
   "source": [
    "import pandas as pd\n",
    "df_to_plot_memory = spark.sql(\"select * from memory_7a\").toPandas()"
   ]
  },
  {
   "cell_type": "code",
   "execution_count": 31,
   "metadata": {},
   "outputs": [
    {
     "data": {
      "text/html": [
       "<div>\n",
       "<style scoped>\n",
       "    .dataframe tbody tr th:only-of-type {\n",
       "        vertical-align: middle;\n",
       "    }\n",
       "\n",
       "    .dataframe tbody tr th {\n",
       "        vertical-align: top;\n",
       "    }\n",
       "\n",
       "    .dataframe thead th {\n",
       "        text-align: right;\n",
       "    }\n",
       "</style>\n",
       "<table border=\"1\" class=\"dataframe\">\n",
       "  <thead>\n",
       "    <tr style=\"text-align: right;\">\n",
       "      <th></th>\n",
       "      <th>machine</th>\n",
       "      <th>start</th>\n",
       "      <th>end</th>\n",
       "      <th>count</th>\n",
       "    </tr>\n",
       "  </thead>\n",
       "  <tbody>\n",
       "    <tr>\n",
       "      <th>0</th>\n",
       "      <td>8</td>\n",
       "      <td>2020-10-30 12:26:00</td>\n",
       "      <td>2020-10-30 12:28:00</td>\n",
       "      <td>8</td>\n",
       "    </tr>\n",
       "    <tr>\n",
       "      <th>1</th>\n",
       "      <td>7</td>\n",
       "      <td>2020-10-30 12:24:00</td>\n",
       "      <td>2020-10-30 12:26:00</td>\n",
       "      <td>10</td>\n",
       "    </tr>\n",
       "    <tr>\n",
       "      <th>2</th>\n",
       "      <td>5</td>\n",
       "      <td>2020-10-30 12:26:00</td>\n",
       "      <td>2020-10-30 12:28:00</td>\n",
       "      <td>19</td>\n",
       "    </tr>\n",
       "  </tbody>\n",
       "</table>\n",
       "</div>"
      ],
      "text/plain": [
       "   machine               start                 end  count\n",
       "0        8 2020-10-30 12:26:00 2020-10-30 12:28:00      8\n",
       "1        7 2020-10-30 12:24:00 2020-10-30 12:26:00     10\n",
       "2        5 2020-10-30 12:26:00 2020-10-30 12:28:00     19"
      ]
     },
     "execution_count": 31,
     "metadata": {},
     "output_type": "execute_result"
    }
   ],
   "source": [
    "df_to_plot_memory.head(3)"
   ]
  },
  {
   "cell_type": "code",
   "execution_count": 42,
   "metadata": {},
   "outputs": [],
   "source": [
    "df_to_plot_process = spark.sql(\"select * from process_7a\").toPandas()"
   ]
  },
  {
   "cell_type": "code",
   "execution_count": 43,
   "metadata": {},
   "outputs": [
    {
     "data": {
      "text/html": [
       "<div>\n",
       "<style scoped>\n",
       "    .dataframe tbody tr th:only-of-type {\n",
       "        vertical-align: middle;\n",
       "    }\n",
       "\n",
       "    .dataframe tbody tr th {\n",
       "        vertical-align: top;\n",
       "    }\n",
       "\n",
       "    .dataframe thead th {\n",
       "        text-align: right;\n",
       "    }\n",
       "</style>\n",
       "<table border=\"1\" class=\"dataframe\">\n",
       "  <thead>\n",
       "    <tr style=\"text-align: right;\">\n",
       "      <th></th>\n",
       "      <th>machine</th>\n",
       "      <th>start</th>\n",
       "      <th>end</th>\n",
       "      <th>count</th>\n",
       "    </tr>\n",
       "  </thead>\n",
       "  <tbody>\n",
       "    <tr>\n",
       "      <th>0</th>\n",
       "      <td>8</td>\n",
       "      <td>2020-10-30 12:28:00</td>\n",
       "      <td>2020-10-30 12:30:00</td>\n",
       "      <td>74</td>\n",
       "    </tr>\n",
       "    <tr>\n",
       "      <th>1</th>\n",
       "      <td>8</td>\n",
       "      <td>2020-10-30 12:26:00</td>\n",
       "      <td>2020-10-30 12:28:00</td>\n",
       "      <td>54</td>\n",
       "    </tr>\n",
       "    <tr>\n",
       "      <th>2</th>\n",
       "      <td>7</td>\n",
       "      <td>2020-10-30 12:28:00</td>\n",
       "      <td>2020-10-30 12:30:00</td>\n",
       "      <td>67</td>\n",
       "    </tr>\n",
       "    <tr>\n",
       "      <th>3</th>\n",
       "      <td>8</td>\n",
       "      <td>2020-10-30 12:30:00</td>\n",
       "      <td>2020-10-30 12:32:00</td>\n",
       "      <td>50</td>\n",
       "    </tr>\n",
       "  </tbody>\n",
       "</table>\n",
       "</div>"
      ],
      "text/plain": [
       "   machine               start                 end  count\n",
       "0        8 2020-10-30 12:28:00 2020-10-30 12:30:00     74\n",
       "1        8 2020-10-30 12:26:00 2020-10-30 12:28:00     54\n",
       "2        7 2020-10-30 12:28:00 2020-10-30 12:30:00     67\n",
       "3        8 2020-10-30 12:30:00 2020-10-30 12:32:00     50"
      ]
     },
     "execution_count": 43,
     "metadata": {},
     "output_type": "execute_result"
    }
   ],
   "source": [
    "df_to_plot_process.head(4)"
   ]
  },
  {
   "cell_type": "code",
   "execution_count": 44,
   "metadata": {},
   "outputs": [],
   "source": [
    "from time import sleep\n",
    "from kafka import KafkaConsumer\n",
    "import datetime as dt\n",
    "import matplotlib.pyplot as plt\n",
    "def init_plots():\n",
    "    try:\n",
    "        width = 9.5\n",
    "        height = 6\n",
    "        fig = plt.figure(figsize=(width,height)) # create new figure\n",
    "        fig.subplots_adjust(hspace=0.8)\n",
    "        # ax = fig.add_subplot(111) # adding the subplot axes to the given grid position\n",
    "        ax1 = fig.add_subplot(211)\n",
    "        ax2 = fig.add_subplot(212)\n",
    "        ax1.set_xlabel('Time')\n",
    "        ax1.set_ylabel('Value')\n",
    "        ax1.title.set_text('Creation Time Vs Value')\n",
    "        ax2.set_xlabel('Time')\n",
    "        ax2.set_ylabel('Value')\n",
    "        ax2.title.set_text('Arrival Time Vs Value')\n",
    "        fig.suptitle('Real-time uniform stream data visualization with interesting points') # giving figure a title\n",
    "        fig.show() # displaying the figure\n",
    "        fig.canvas.draw() # drawing on the canvas\n",
    "        return fig, ax1, ax2\n",
    "    except Exception as ex:\n",
    "        print(str(ex))"
   ]
  },
  {
   "cell_type": "code",
   "execution_count": 49,
   "metadata": {},
   "outputs": [
    {
     "name": "stderr",
     "output_type": "stream",
     "text": [
      "<ipython-input-44-8f48fd12b6a0>:21: UserWarning: Matplotlib is currently using module://ipykernel.pylab.backend_inline, which is a non-GUI backend, so cannot show the figure.\n",
      "  fig.show() # displaying the figure\n"
     ]
    },
    {
     "data": {
      "image/png": "[encoded data removed]",
      "text/plain": [
       "<Figure size 684x432 with 2 Axes>"
      ]
     },
     "metadata": {
      "needs_background": "light"
     },
     "output_type": "display_data"
    },
    {
     "ename": "KeyboardInterrupt",
     "evalue": "",
     "output_type": "error",
     "traceback": [
      "\u001b[0;31m---------------------------------------------------------------------------\u001b[0m",
      "\u001b[0;31mKeyboardInterrupt\u001b[0m                         Traceback (most recent call last)",
      "\u001b[0;32m<ipython-input-49-d8beaf9aa5f4>\u001b[0m in \u001b[0;36m<module>\u001b[0;34m\u001b[0m\n\u001b[1;32m     62\u001b[0m     \u001b[0;32melse\u001b[0m\u001b[0;34m:\u001b[0m\u001b[0;34m\u001b[0m\u001b[0;34m\u001b[0m\u001b[0m\n\u001b[1;32m     63\u001b[0m         \u001b[0mprint\u001b[0m\u001b[0;34m(\u001b[0m\u001b[0;34m\"No data for now\"\u001b[0m\u001b[0;34m)\u001b[0m\u001b[0;34m\u001b[0m\u001b[0;34m\u001b[0m\u001b[0m\n\u001b[0;32m---> 64\u001b[0;31m     \u001b[0msleep\u001b[0m\u001b[0;34m(\u001b[0m\u001b[0;36m600\u001b[0m\u001b[0;34m)\u001b[0m\u001b[0;34m\u001b[0m\u001b[0;34m\u001b[0m\u001b[0m\n\u001b[0m\u001b[1;32m     65\u001b[0m     \u001b[0max1\u001b[0m\u001b[0;34m.\u001b[0m\u001b[0mclear\u001b[0m\u001b[0;34m(\u001b[0m\u001b[0;34m)\u001b[0m\u001b[0;34m\u001b[0m\u001b[0;34m\u001b[0m\u001b[0m\n\u001b[1;32m     66\u001b[0m     \u001b[0max2\u001b[0m\u001b[0;34m.\u001b[0m\u001b[0mclear\u001b[0m\u001b[0;34m(\u001b[0m\u001b[0;34m)\u001b[0m\u001b[0;34m\u001b[0m\u001b[0;34m\u001b[0m\u001b[0m\n",
      "\u001b[0;31mKeyboardInterrupt\u001b[0m: "
     ]
    }
   ],
   "source": [
    "fig,ax1,ax2= init_plots()\n",
    "\n",
    "while 1:\n",
    "    if len(df_to_plot_memory) > 0 or len(df_to_plot_process) > 0:\n",
    "        for index_m in [4,5,6,7,8]:\n",
    "            df_temp = df_to_plot_process[df_to_plot_process.machine == index_m]\n",
    "            df_temp = df_temp.sort_values(by=['start'])\n",
    "            start = df_temp['start'].to_list()\n",
    "            end = df_temp['end'].to_list()\n",
    "    #         x_process = [f'{i[0].strftime(\"%H:%M:%S\")}-{i[1].strftime(\"%H:%M:%S\")}' for i in time_window]\n",
    "            x_process = []\n",
    "            for i in range(0,len(start)):\n",
    "#                 print(type(end[i] - start[i]))\n",
    "                x_process.append(str(end[i]))\n",
    "            y_count_process = df_temp['count'].to_list()\n",
    "            if len(x_process) > 0:\n",
    "                ax1.plot(x_process,\n",
    "                    y_count_process,\n",
    "                    linestyle='-',\n",
    "                    linewidth=1,\n",
    "                    label='machine ' + str(index_m),\n",
    "                    marker='o',\n",
    "                    markersize=2)\n",
    "                for idx, label in enumerate(y_count_process):\n",
    "                    ax1.text(idx, label, label, ha='center', va='bottom')\n",
    "        ax1.set_title(\"Attacks in process activity\")\n",
    "        ax1.set_xlabel('Time')\n",
    "        ax1.set_ylabel('Count')\n",
    "        ax1.tick_params(labelrotation=90)\n",
    "        ax1.legend()\n",
    "        \n",
    "        for index_m in [4,5,6,7,8]:\n",
    "            df_temp = df_to_plot_memory[df_to_plot_memory.machine == index_m]\n",
    "            df_temp = df_temp.sort_values(by=['start'])\n",
    "            start = df_temp['start'].to_list()\n",
    "            end = df_temp['end'].to_list()\n",
    "#             x_process = [f'{i[0].strftime(\"%H:%M:%S\")}-{i[1].strftime(\"%H:%M:%S\")}' for i in time_window]\n",
    "            x_mem = []\n",
    "            for i in range(0,len(start)):\n",
    "#                 print(type(end[i] - start[i]))\n",
    "                x_mem.append(str(end[i]))\n",
    "            y_count_mem = df_temp['count'].to_list()\n",
    "            if len(x_process) > 0:\n",
    "                ax2.plot(x_mem,\n",
    "                    y_count_mem,\n",
    "                    linestyle='-',\n",
    "                    linewidth=1,\n",
    "                    label='machine ' + str(index_m),\n",
    "                    marker='o',\n",
    "                    markersize=2)\n",
    "                for idx, label in enumerate(y_count_mem):\n",
    "                    ax2.text(idx, label, label, ha='center', va='bottom')\n",
    "        ax2.set_title(\"Attacks in process activity\")\n",
    "        ax2.set_xlabel('Time')\n",
    "        ax2.set_ylabel('Count')\n",
    "        ax2.tick_params(labelrotation=90)\n",
    "        ax2.legend()\n",
    "        \n",
    "        fig.canvas.draw()\n",
    "        plt.show()\n",
    "        \n",
    "    else:\n",
    "        print(\"No data for now\")\n",
    "    sleep(600)\n",
    "    ax1.clear()\n",
    "    ax2.clear()"
   ]
  },
  {
   "cell_type": "code",
   "execution_count": null,
   "metadata": {},
   "outputs": [],
   "source": []
  }
 ],
 "metadata": {
  "kernelspec": {
   "display_name": "Python 3",
   "language": "python",
   "name": "python3"
  },
  "language_info": {
   "codemirror_mode": {
    "name": "ipython",
    "version": 3
   },
   "file_extension": ".py",
   "mimetype": "text/x-python",
   "name": "python",
   "nbconvert_exporter": "python",
   "pygments_lexer": "ipython3",
   "version": "3.8.2"
  }
 },
 "nbformat": 4,
 "nbformat_minor": 4
}
